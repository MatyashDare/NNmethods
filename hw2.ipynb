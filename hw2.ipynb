{
  "nbformat": 4,
  "nbformat_minor": 0,
  "metadata": {
    "colab": {
      "name": "Untitled3.ipynb",
      "provenance": [],
      "collapsed_sections": [],
      "toc_visible": true
    },
    "kernelspec": {
      "name": "python3",
      "display_name": "Python 3"
    },
    "language_info": {
      "name": "python"
    },
    "accelerator": "GPU"
  },
  "cells": [
    {
      "cell_type": "markdown",
      "metadata": {
        "id": "aPLOENCBoeuT"
      },
      "source": [
        "***Домашнее задание №2 (построение собственных сетей CNN + FFN)***\n",
        "\n",
        "В этом домашнем задании вы построите нейронную сеть с использованием сверточных и линейных слоев  для задачи классификации твитов. \n",
        "С корпусом мы работали на паре про перцептрон.\n",
        "Посмотреть и скачать корпус можно из источника http://study.mokoron.com, (либо сразу по прямым ссылкам в ноутбуке)\n",
        "\n",
        "```\n",
        "!wget https://www.dropbox.com/s/r6u59ljhhjdg6j0/negative.csv\n",
        "!wget https://www.dropbox.com/s/fnpq3z4bcnoktiv/positive.csv \n",
        "```\n",
        "\n",
        "Решите задачу , используя две следующие архитектуры, для каждой посчитайте accuracy, precision, recall:\n",
        "\n",
        "I.  CNN на уровне слов:\n",
        "модель берет слова, пропускает их через Embedding слой. По эмбеддингам проходит CNN c фильтрами с разным окном, полученные результаты конкатенируются друг с другом по глубине, по результату конкатенации еще один сверточный слой, далее max pooling over time, на выходе линейный слой + сигмоида, функция потерь  BCELoss. (модель аналогична тому, что мы делали на паре по сверткам, но на уровне слов, а не символов)\n",
        "\n",
        "\n",
        "\n",
        "II. комбинация эмбеддингов и символьных признаков:\n",
        "У этой модели два входа, один для эмбеддингов слов (предобученных или обучаемых), из них берем max или  mean, делаем вектор для предложения, поверх линейный слой - получаем вектор X.\n",
        " Другой вход сети для символьного представления слов (это обучаемый Embedding  слой, он будет брать на вход batch_size x symbols_len и сопоставлять каждому  символу в каждом слове один эмбеддинг). Следующий слой сверточный, примените фильтры разных размеров. Результаты  агрегируются с помощью  max pooling over time и полученные векторы конкатенируются с вектором X.\n",
        "\n",
        " Далее линейный слой + сигмоида, функция потерь  BCELoss.\n",
        "\n",
        "***Баллы:*** \n",
        "\n",
        "Embedding слой обучается внутри первой модели -- 1 балл \n",
        "\n",
        "подгружаются обученные эмбеддинги для русского языка или\n",
        "fasttext эмбеддинги обучаются на всем корпусе с нуля  и далее подгружаются в модель -- 1 балл \n",
        "\n",
        "Первая модель правильно построена и обучается -- 1 балл \n",
        "\n",
        "Правильно подготовленный класс Dataset  для второй архитектуры (теперь вам нужно два словаря (word2id и symbol2id) и две матрицы для кодирования предложения: одна размера batch_size x seq_len,  другая  batch_size x sybmols_len ) -- 2 балла \n",
        "\n",
        "Вторая модель правильно построена и обучается -- 2 балла \n",
        "\n",
        "Для первой модели показано, что качество можно улучшить засчет работы с гиперпараметрами и/или доведения архитектуры (помогло изменение количества/размера фильтров, размера слоя/эмбеддингов, добавили Dropout и спаслись от переобучения, добавили слоев и т.д.) -- 1 балл \n",
        "\n",
        "Для второй модели показано, что качество можно улучшить засчет работы с гиперпараметрами и/или доведения архитектуры (помогло изменение количества/размера фильтров, размера слоя/эмбеддингов, добавили Dropout и спаслись от переобучения, добавили слоев и т.д.) -- 1 балл \n",
        "\n",
        "Сделана попытка анализа предсказаний, на примерах из тестовой выборки показано, какие случаи даются легко, а какие хуже - 1 балл \n",
        "\n",
        "\n",
        "\n"
      ]
    },
    {
      "cell_type": "code",
      "metadata": {
        "colab": {
          "base_uri": "https://localhost:8080/"
        },
        "id": "U-PY5vd0ofbe",
        "outputId": "6443c0e3-629c-43b2-817a-18252cc64da7"
      },
      "source": [
        "!wget https://www.dropbox.com/s/r6u59ljhhjdg6j0/negative.csv\n",
        "!wget https://www.dropbox.com/s/fnpq3z4bcnoktiv/positive.csv "
      ],
      "execution_count": 41,
      "outputs": [
        {
          "output_type": "stream",
          "name": "stdout",
          "text": [
            "--2021-11-26 18:38:02--  https://www.dropbox.com/s/r6u59ljhhjdg6j0/negative.csv\n",
            "Resolving www.dropbox.com (www.dropbox.com)... 162.125.3.18, 2620:100:6018:18::a27d:312\n",
            "Connecting to www.dropbox.com (www.dropbox.com)|162.125.3.18|:443... connected.\n",
            "HTTP request sent, awaiting response... 301 Moved Permanently\n",
            "Location: /s/raw/r6u59ljhhjdg6j0/negative.csv [following]\n",
            "--2021-11-26 18:38:02--  https://www.dropbox.com/s/raw/r6u59ljhhjdg6j0/negative.csv\n",
            "Reusing existing connection to www.dropbox.com:443.\n",
            "HTTP request sent, awaiting response... 404 Not Found\n",
            "2021-11-26 18:38:02 ERROR 404: Not Found.\n",
            "\n",
            "--2021-11-26 18:38:02--  https://www.dropbox.com/s/fnpq3z4bcnoktiv/positive.csv\n",
            "Resolving www.dropbox.com (www.dropbox.com)... 162.125.3.18, 2620:100:6018:18::a27d:312\n",
            "Connecting to www.dropbox.com (www.dropbox.com)|162.125.3.18|:443... connected.\n",
            "HTTP request sent, awaiting response... 301 Moved Permanently\n",
            "Location: /s/raw/fnpq3z4bcnoktiv/positive.csv [following]\n",
            "--2021-11-26 18:38:02--  https://www.dropbox.com/s/raw/fnpq3z4bcnoktiv/positive.csv\n",
            "Reusing existing connection to www.dropbox.com:443.\n",
            "HTTP request sent, awaiting response... 404 Not Found\n",
            "2021-11-26 18:38:02 ERROR 404: Not Found.\n",
            "\n"
          ]
        }
      ]
    },
    {
      "cell_type": "code",
      "metadata": {
        "id": "tMDhR8mTJeQe"
      },
      "source": [
        "import pandas as pd\n",
        "import numpy as np\n",
        "import matplotlib.pyplot as plt\n",
        "import re\n",
        "from tqdm import tqdm\n",
        "from collections import Counter\n",
        "from typing import List\n",
        "from sklearn.model_selection import train_test_split"
      ],
      "execution_count": 1,
      "outputs": []
    },
    {
      "cell_type": "code",
      "metadata": {
        "colab": {
          "base_uri": "https://localhost:8080/"
        },
        "id": "IV9rGpJUcK3D",
        "outputId": "655cfabc-cb6a-4fb9-e2bc-5f8310baac63"
      },
      "source": [
        "!pip install --quiet torchmetrics"
      ],
      "execution_count": 8,
      "outputs": [
        {
          "output_type": "stream",
          "name": "stdout",
          "text": [
            "\u001b[?25l\r\u001b[K     |█                               | 10 kB 27.9 MB/s eta 0:00:01\r\u001b[K     |██                              | 20 kB 27.6 MB/s eta 0:00:01\r\u001b[K     |███                             | 30 kB 12.1 MB/s eta 0:00:01\r\u001b[K     |████                            | 40 kB 9.6 MB/s eta 0:00:01\r\u001b[K     |█████                           | 51 kB 5.2 MB/s eta 0:00:01\r\u001b[K     |██████                          | 61 kB 5.8 MB/s eta 0:00:01\r\u001b[K     |███████                         | 71 kB 5.6 MB/s eta 0:00:01\r\u001b[K     |████████                        | 81 kB 6.3 MB/s eta 0:00:01\r\u001b[K     |█████████                       | 92 kB 4.8 MB/s eta 0:00:01\r\u001b[K     |██████████                      | 102 kB 5.1 MB/s eta 0:00:01\r\u001b[K     |███████████                     | 112 kB 5.1 MB/s eta 0:00:01\r\u001b[K     |████████████                    | 122 kB 5.1 MB/s eta 0:00:01\r\u001b[K     |█████████████                   | 133 kB 5.1 MB/s eta 0:00:01\r\u001b[K     |██████████████                  | 143 kB 5.1 MB/s eta 0:00:01\r\u001b[K     |███████████████                 | 153 kB 5.1 MB/s eta 0:00:01\r\u001b[K     |████████████████                | 163 kB 5.1 MB/s eta 0:00:01\r\u001b[K     |█████████████████               | 174 kB 5.1 MB/s eta 0:00:01\r\u001b[K     |██████████████████              | 184 kB 5.1 MB/s eta 0:00:01\r\u001b[K     |███████████████████             | 194 kB 5.1 MB/s eta 0:00:01\r\u001b[K     |████████████████████            | 204 kB 5.1 MB/s eta 0:00:01\r\u001b[K     |█████████████████████           | 215 kB 5.1 MB/s eta 0:00:01\r\u001b[K     |█████████████████████▉          | 225 kB 5.1 MB/s eta 0:00:01\r\u001b[K     |██████████████████████▉         | 235 kB 5.1 MB/s eta 0:00:01\r\u001b[K     |███████████████████████▉        | 245 kB 5.1 MB/s eta 0:00:01\r\u001b[K     |████████████████████████▉       | 256 kB 5.1 MB/s eta 0:00:01\r\u001b[K     |█████████████████████████▉      | 266 kB 5.1 MB/s eta 0:00:01\r\u001b[K     |██████████████████████████▉     | 276 kB 5.1 MB/s eta 0:00:01\r\u001b[K     |███████████████████████████▉    | 286 kB 5.1 MB/s eta 0:00:01\r\u001b[K     |████████████████████████████▉   | 296 kB 5.1 MB/s eta 0:00:01\r\u001b[K     |█████████████████████████████▉  | 307 kB 5.1 MB/s eta 0:00:01\r\u001b[K     |██████████████████████████████▉ | 317 kB 5.1 MB/s eta 0:00:01\r\u001b[K     |███████████████████████████████▉| 327 kB 5.1 MB/s eta 0:00:01\r\u001b[K     |████████████████████████████████| 329 kB 5.1 MB/s \n",
            "\u001b[?25h"
          ]
        }
      ]
    },
    {
      "cell_type": "code",
      "metadata": {
        "id": "YTmbujOxF3DE"
      },
      "source": [
        "import torch\n",
        "import torch.nn as nn\n",
        "import torch.nn.functional as F\n",
        "from torch.utils.data import Dataset\n",
        "from torch.utils.data import RandomSampler\n",
        "from torch.utils.data import DataLoader\n",
        "\n",
        "from torch.nn.utils.rnn import pad_sequence\n",
        "import torch.optim as optim\n",
        "#спасибо этой домашке, я узнала про :\n",
        "from torchmetrics.functional import precision, recall, f1"
      ],
      "execution_count": 42,
      "outputs": []
    },
    {
      "cell_type": "code",
      "metadata": {
        "id": "8KQ5lIdrJPu1"
      },
      "source": [
        "from gensim.models import FastText"
      ],
      "execution_count": 10,
      "outputs": []
    },
    {
      "cell_type": "code",
      "metadata": {
        "id": "OF7wrofyKxPJ"
      },
      "source": [
        "colnames = ['id',1,'nickname','text','tone',5,6,7,8,9,10,11]\n",
        "neg = pd.read_csv('negative.csv', encoding='utf-8', sep=';', header=None,  names=colnames)\n",
        "pos = pd.read_csv('positive.csv', encoding='utf-8', sep=';', header=None,  names=colnames)"
      ],
      "execution_count": 43,
      "outputs": []
    },
    {
      "cell_type": "code",
      "metadata": {
        "colab": {
          "base_uri": "https://localhost:8080/",
          "height": 141
        },
        "id": "CIlddrlqK8M8",
        "outputId": "e1499455-444e-4273-c007-c340f34d530e"
      },
      "source": [
        "neg.head(3)"
      ],
      "execution_count": 44,
      "outputs": [
        {
          "output_type": "execute_result",
          "data": {
            "text/html": [
              "<div>\n",
              "<style scoped>\n",
              "    .dataframe tbody tr th:only-of-type {\n",
              "        vertical-align: middle;\n",
              "    }\n",
              "\n",
              "    .dataframe tbody tr th {\n",
              "        vertical-align: top;\n",
              "    }\n",
              "\n",
              "    .dataframe thead th {\n",
              "        text-align: right;\n",
              "    }\n",
              "</style>\n",
              "<table border=\"1\" class=\"dataframe\">\n",
              "  <thead>\n",
              "    <tr style=\"text-align: right;\">\n",
              "      <th></th>\n",
              "      <th>id</th>\n",
              "      <th>1</th>\n",
              "      <th>nickname</th>\n",
              "      <th>text</th>\n",
              "      <th>tone</th>\n",
              "      <th>5</th>\n",
              "      <th>6</th>\n",
              "      <th>7</th>\n",
              "      <th>8</th>\n",
              "      <th>9</th>\n",
              "      <th>10</th>\n",
              "      <th>11</th>\n",
              "    </tr>\n",
              "  </thead>\n",
              "  <tbody>\n",
              "    <tr>\n",
              "      <th>0</th>\n",
              "      <td>408906762813579264</td>\n",
              "      <td>1386325944</td>\n",
              "      <td>dugarchikbellko</td>\n",
              "      <td>на работе был полный пиддес :| и так каждое за...</td>\n",
              "      <td>-1</td>\n",
              "      <td>0</td>\n",
              "      <td>0</td>\n",
              "      <td>0</td>\n",
              "      <td>8064</td>\n",
              "      <td>111</td>\n",
              "      <td>94</td>\n",
              "      <td>2</td>\n",
              "    </tr>\n",
              "    <tr>\n",
              "      <th>1</th>\n",
              "      <td>408906818262687744</td>\n",
              "      <td>1386325957</td>\n",
              "      <td>nugemycejela</td>\n",
              "      <td>Коллеги сидят рубятся в Urban terror, а я из-з...</td>\n",
              "      <td>-1</td>\n",
              "      <td>0</td>\n",
              "      <td>0</td>\n",
              "      <td>0</td>\n",
              "      <td>26</td>\n",
              "      <td>42</td>\n",
              "      <td>39</td>\n",
              "      <td>0</td>\n",
              "    </tr>\n",
              "    <tr>\n",
              "      <th>2</th>\n",
              "      <td>408906858515398656</td>\n",
              "      <td>1386325966</td>\n",
              "      <td>4post21</td>\n",
              "      <td>@elina_4post как говорят обещаного три года жд...</td>\n",
              "      <td>-1</td>\n",
              "      <td>0</td>\n",
              "      <td>0</td>\n",
              "      <td>0</td>\n",
              "      <td>718</td>\n",
              "      <td>49</td>\n",
              "      <td>249</td>\n",
              "      <td>0</td>\n",
              "    </tr>\n",
              "  </tbody>\n",
              "</table>\n",
              "</div>"
            ],
            "text/plain": [
              "                   id           1         nickname  ...    9   10  11\n",
              "0  408906762813579264  1386325944  dugarchikbellko  ...  111   94   2\n",
              "1  408906818262687744  1386325957     nugemycejela  ...   42   39   0\n",
              "2  408906858515398656  1386325966          4post21  ...   49  249   0\n",
              "\n",
              "[3 rows x 12 columns]"
            ]
          },
          "metadata": {},
          "execution_count": 44
        }
      ]
    },
    {
      "cell_type": "code",
      "metadata": {
        "colab": {
          "base_uri": "https://localhost:8080/",
          "height": 141
        },
        "id": "DO7ydFSpK-i3",
        "outputId": "d4385840-0fc4-47b5-dc04-80d2a69b2ed9"
      },
      "source": [
        "pos.head(3)"
      ],
      "execution_count": 45,
      "outputs": [
        {
          "output_type": "execute_result",
          "data": {
            "text/html": [
              "<div>\n",
              "<style scoped>\n",
              "    .dataframe tbody tr th:only-of-type {\n",
              "        vertical-align: middle;\n",
              "    }\n",
              "\n",
              "    .dataframe tbody tr th {\n",
              "        vertical-align: top;\n",
              "    }\n",
              "\n",
              "    .dataframe thead th {\n",
              "        text-align: right;\n",
              "    }\n",
              "</style>\n",
              "<table border=\"1\" class=\"dataframe\">\n",
              "  <thead>\n",
              "    <tr style=\"text-align: right;\">\n",
              "      <th></th>\n",
              "      <th>id</th>\n",
              "      <th>1</th>\n",
              "      <th>nickname</th>\n",
              "      <th>text</th>\n",
              "      <th>tone</th>\n",
              "      <th>5</th>\n",
              "      <th>6</th>\n",
              "      <th>7</th>\n",
              "      <th>8</th>\n",
              "      <th>9</th>\n",
              "      <th>10</th>\n",
              "      <th>11</th>\n",
              "    </tr>\n",
              "  </thead>\n",
              "  <tbody>\n",
              "    <tr>\n",
              "      <th>0</th>\n",
              "      <td>408906692374446080</td>\n",
              "      <td>1386325927</td>\n",
              "      <td>pleease_shut_up</td>\n",
              "      <td>@first_timee хоть я и школота, но поверь, у на...</td>\n",
              "      <td>1</td>\n",
              "      <td>0</td>\n",
              "      <td>0</td>\n",
              "      <td>0</td>\n",
              "      <td>7569</td>\n",
              "      <td>62</td>\n",
              "      <td>61</td>\n",
              "      <td>0</td>\n",
              "    </tr>\n",
              "    <tr>\n",
              "      <th>1</th>\n",
              "      <td>408906692693221377</td>\n",
              "      <td>1386325927</td>\n",
              "      <td>alinakirpicheva</td>\n",
              "      <td>Да, все-таки он немного похож на него. Но мой ...</td>\n",
              "      <td>1</td>\n",
              "      <td>0</td>\n",
              "      <td>0</td>\n",
              "      <td>0</td>\n",
              "      <td>11825</td>\n",
              "      <td>59</td>\n",
              "      <td>31</td>\n",
              "      <td>2</td>\n",
              "    </tr>\n",
              "    <tr>\n",
              "      <th>2</th>\n",
              "      <td>408906695083954177</td>\n",
              "      <td>1386325927</td>\n",
              "      <td>EvgeshaRe</td>\n",
              "      <td>RT @KatiaCheh: Ну ты идиотка) я испугалась за ...</td>\n",
              "      <td>1</td>\n",
              "      <td>0</td>\n",
              "      <td>1</td>\n",
              "      <td>0</td>\n",
              "      <td>1273</td>\n",
              "      <td>26</td>\n",
              "      <td>27</td>\n",
              "      <td>0</td>\n",
              "    </tr>\n",
              "  </tbody>\n",
              "</table>\n",
              "</div>"
            ],
            "text/plain": [
              "                   id           1         nickname  ...   9  10  11\n",
              "0  408906692374446080  1386325927  pleease_shut_up  ...  62  61   0\n",
              "1  408906692693221377  1386325927  alinakirpicheva  ...  59  31   2\n",
              "2  408906695083954177  1386325927        EvgeshaRe  ...  26  27   0\n",
              "\n",
              "[3 rows x 12 columns]"
            ]
          },
          "metadata": {},
          "execution_count": 45
        }
      ]
    },
    {
      "cell_type": "code",
      "metadata": {
        "colab": {
          "base_uri": "https://localhost:8080/"
        },
        "id": "Pvfs99fvLkps",
        "outputId": "ae34e5b8-088c-4575-c62d-3424b7a1b187"
      },
      "source": [
        "def bt(token_pattern=r'(?u)\\b\\w\\w+\\b')-> List:\n",
        "    return re.compile(token_pattern).findall\n",
        "tokenizer=bt()\n",
        "print(tokenizer('ПривЕт, как дела +7904 fghakbm ? ! ***'))\n",
        " \n",
        "def tokenize_line(line: str):\n",
        "    if isinstance(line, str):\n",
        "        return [w.lower() for w in tokenizer(line)]\n",
        "    else:\n",
        "        return 'нет текста'\n",
        "print(tokenize_line('ПривЕт, как дела +7904 fghakbm ? ! ***'))"
      ],
      "execution_count": 46,
      "outputs": [
        {
          "output_type": "stream",
          "name": "stdout",
          "text": [
            "['ПривЕт', 'как', 'дела', '7904', 'fghakbm']\n",
            "['привет', 'как', 'дела', '7904', 'fghakbm']\n"
          ]
        }
      ]
    },
    {
      "cell_type": "code",
      "metadata": {
        "id": "64bYGgaEOZ2c"
      },
      "source": [
        "def tokenize_line2(line:str) -> List:\n",
        "  if isinstance(line, str):\n",
        "    line = ' '.join(tokenizer(line))\n",
        "    line = re.sub('[0-9]|[A-Za-z]', '', line)\n",
        "    line = [w.lower() for w in line.split() if len(w)<20 \n",
        "            and not w.startswith(('@', 'http')) and\n",
        "                                       w != 'RT']\n",
        "    return line"
      ],
      "execution_count": 47,
      "outputs": []
    },
    {
      "cell_type": "code",
      "metadata": {
        "colab": {
          "base_uri": "https://localhost:8080/"
        },
        "id": "w7VJ9CkJOwMf",
        "outputId": "2eb39c4c-2354-4ed6-9bcd-99e8401f0ad5"
      },
      "source": [
        "line = 'ПривЕт, как дела +7904 fghakbm ? ! *** чщпсщрщрссщрщрсшаааггввшвллидцяхьувзькдсьзцябхцьязцтчзучщуьчуьчу'\n",
        "print(tokenize_line(line))\n",
        "print(tokenize_line2(line))"
      ],
      "execution_count": 48,
      "outputs": [
        {
          "output_type": "stream",
          "name": "stdout",
          "text": [
            "['привет', 'как', 'дела', '7904', 'fghakbm', 'чщпсщрщрссщрщрсшаааггввшвллидцяхьувзькдсьзцябхцьязцтчзучщуьчуьчу']\n",
            "['привет', 'как', 'дела']\n"
          ]
        }
      ]
    },
    {
      "cell_type": "code",
      "metadata": {
        "colab": {
          "base_uri": "https://localhost:8080/",
          "height": 141
        },
        "id": "yfdXxkKMNTxF",
        "outputId": "fe11fefc-537e-4686-99cf-67551841662e"
      },
      "source": [
        "df = pd.concat([pos, neg], axis=0)\n",
        "df.head(3)"
      ],
      "execution_count": 49,
      "outputs": [
        {
          "output_type": "execute_result",
          "data": {
            "text/html": [
              "<div>\n",
              "<style scoped>\n",
              "    .dataframe tbody tr th:only-of-type {\n",
              "        vertical-align: middle;\n",
              "    }\n",
              "\n",
              "    .dataframe tbody tr th {\n",
              "        vertical-align: top;\n",
              "    }\n",
              "\n",
              "    .dataframe thead th {\n",
              "        text-align: right;\n",
              "    }\n",
              "</style>\n",
              "<table border=\"1\" class=\"dataframe\">\n",
              "  <thead>\n",
              "    <tr style=\"text-align: right;\">\n",
              "      <th></th>\n",
              "      <th>id</th>\n",
              "      <th>1</th>\n",
              "      <th>nickname</th>\n",
              "      <th>text</th>\n",
              "      <th>tone</th>\n",
              "      <th>5</th>\n",
              "      <th>6</th>\n",
              "      <th>7</th>\n",
              "      <th>8</th>\n",
              "      <th>9</th>\n",
              "      <th>10</th>\n",
              "      <th>11</th>\n",
              "    </tr>\n",
              "  </thead>\n",
              "  <tbody>\n",
              "    <tr>\n",
              "      <th>0</th>\n",
              "      <td>408906692374446080</td>\n",
              "      <td>1386325927</td>\n",
              "      <td>pleease_shut_up</td>\n",
              "      <td>@first_timee хоть я и школота, но поверь, у на...</td>\n",
              "      <td>1</td>\n",
              "      <td>0</td>\n",
              "      <td>0</td>\n",
              "      <td>0</td>\n",
              "      <td>7569</td>\n",
              "      <td>62</td>\n",
              "      <td>61</td>\n",
              "      <td>0</td>\n",
              "    </tr>\n",
              "    <tr>\n",
              "      <th>1</th>\n",
              "      <td>408906692693221377</td>\n",
              "      <td>1386325927</td>\n",
              "      <td>alinakirpicheva</td>\n",
              "      <td>Да, все-таки он немного похож на него. Но мой ...</td>\n",
              "      <td>1</td>\n",
              "      <td>0</td>\n",
              "      <td>0</td>\n",
              "      <td>0</td>\n",
              "      <td>11825</td>\n",
              "      <td>59</td>\n",
              "      <td>31</td>\n",
              "      <td>2</td>\n",
              "    </tr>\n",
              "    <tr>\n",
              "      <th>2</th>\n",
              "      <td>408906695083954177</td>\n",
              "      <td>1386325927</td>\n",
              "      <td>EvgeshaRe</td>\n",
              "      <td>RT @KatiaCheh: Ну ты идиотка) я испугалась за ...</td>\n",
              "      <td>1</td>\n",
              "      <td>0</td>\n",
              "      <td>1</td>\n",
              "      <td>0</td>\n",
              "      <td>1273</td>\n",
              "      <td>26</td>\n",
              "      <td>27</td>\n",
              "      <td>0</td>\n",
              "    </tr>\n",
              "  </tbody>\n",
              "</table>\n",
              "</div>"
            ],
            "text/plain": [
              "                   id           1         nickname  ...   9  10  11\n",
              "0  408906692374446080  1386325927  pleease_shut_up  ...  62  61   0\n",
              "1  408906692693221377  1386325927  alinakirpicheva  ...  59  31   2\n",
              "2  408906695083954177  1386325927        EvgeshaRe  ...  26  27   0\n",
              "\n",
              "[3 rows x 12 columns]"
            ]
          },
          "metadata": {},
          "execution_count": 49
        }
      ]
    },
    {
      "cell_type": "code",
      "metadata": {
        "colab": {
          "base_uri": "https://localhost:8080/"
        },
        "id": "rSveys0SNmEG",
        "outputId": "32f888e4-328f-447c-f570-6ed5f8ef8daf"
      },
      "source": [
        "print(neg.shape, pos.shape, df.shape)"
      ],
      "execution_count": 50,
      "outputs": [
        {
          "output_type": "stream",
          "name": "stdout",
          "text": [
            "(111923, 12) (114911, 12) (226834, 12)\n"
          ]
        }
      ]
    },
    {
      "cell_type": "code",
      "metadata": {
        "id": "ZxlX7vAnNT0P"
      },
      "source": [
        "df['tokens'] = df['text'].apply(tokenize_line)\n",
        "df['tokens2'] = df['text'].apply(tokenize_line2)"
      ],
      "execution_count": 51,
      "outputs": []
    },
    {
      "cell_type": "code",
      "metadata": {
        "id": "6BJDLteQYsUy"
      },
      "source": [
        "df = df[df['tokens2'] != 0].reset_index()"
      ],
      "execution_count": 52,
      "outputs": []
    },
    {
      "cell_type": "code",
      "metadata": {
        "id": "fOZ9lF6pLktJ"
      },
      "source": [
        "all_toks = []\n",
        "for t in df['tokens']:\n",
        "  all_toks.extend(t)\n",
        "all_toks_counter = Counter(all_toks)\n",
        "\n",
        "\n",
        "all_toks2 = []\n",
        "for t in df['tokens2']:\n",
        "  all_toks2.extend(t)\n",
        "all_toks_counter2 = Counter(all_toks2)"
      ],
      "execution_count": 53,
      "outputs": []
    },
    {
      "cell_type": "code",
      "metadata": {
        "colab": {
          "base_uri": "https://localhost:8080/"
        },
        "id": "MKh0KPZ5Lkwg",
        "outputId": "c3cee0db-ad10-4550-cb5d-4432bd1aa356"
      },
      "source": [
        "print('Число токенов, полученных первым способом, встретившихся в корпусе не более 5 раз: ',\n",
        "      len([v for v in all_toks_counter.values() if v < 5]), '\\n',\n",
        "          'Число токенов, полученных вторым способом, встретившихся в корпусе не более 5 раз: ',\n",
        "      len([v for v in all_toks_counter2.values() if v < 5]))"
      ],
      "execution_count": 54,
      "outputs": [
        {
          "output_type": "stream",
          "name": "stdout",
          "text": [
            "Число токенов, полученных первым способом, встретившихся в корпусе не более 5 раз:  256791 \n",
            " Число токенов, полученных вторым способом, встретившихся в корпусе не более 5 раз:  139988\n"
          ]
        }
      ]
    },
    {
      "cell_type": "code",
      "metadata": {
        "colab": {
          "base_uri": "https://localhost:8080/"
        },
        "id": "kFFu7m19LPG9",
        "outputId": "c1fe9ea5-ead2-44a4-c8f2-b9821a49266c"
      },
      "source": [
        "all_toks_counter.most_common()[-10:]"
      ],
      "execution_count": 55,
      "outputs": [
        {
          "output_type": "execute_result",
          "data": {
            "text/plain": [
              "[('выключался', 1),\n",
              " ('36qncogdxr', 1),\n",
              " ('qelasocadij', 1),\n",
              " ('пхжааххв', 1),\n",
              " ('qnoddqzuz7', 1),\n",
              " ('taaannyaaa', 1),\n",
              " ('вправляет', 1),\n",
              " ('lisaberoud', 1),\n",
              " ('приплатить', 1),\n",
              " ('втащили', 1)]"
            ]
          },
          "metadata": {},
          "execution_count": 55
        }
      ]
    },
    {
      "cell_type": "code",
      "metadata": {
        "colab": {
          "base_uri": "https://localhost:8080/"
        },
        "id": "kPb19xGATmMQ",
        "outputId": "bed209c2-5170-4ea2-8ef9-cb5c4178beb6"
      },
      "source": [
        "all_toks_counter.most_common(10)"
      ],
      "execution_count": 56,
      "outputs": [
        {
          "output_type": "execute_result",
          "data": {
            "text/plain": [
              "[('не', 75029),\n",
              " ('на', 38189),\n",
              " ('rt', 38118),\n",
              " ('что', 36099),\n",
              " ('http', 33063),\n",
              " ('co', 33036),\n",
              " ('как', 23563),\n",
              " ('меня', 21874),\n",
              " ('то', 20882),\n",
              " ('это', 19822)]"
            ]
          },
          "metadata": {},
          "execution_count": 56
        }
      ]
    },
    {
      "cell_type": "code",
      "metadata": {
        "colab": {
          "base_uri": "https://localhost:8080/"
        },
        "id": "Bk4LGmtXOObM",
        "outputId": "00342f97-e1a4-4360-9b2b-905ff911ef6d"
      },
      "source": [
        "all_toks_counter2.most_common()[-10:]"
      ],
      "execution_count": 57,
      "outputs": [
        {
          "output_type": "execute_result",
          "data": {
            "text/plain": [
              "[('пидораса', 1),\n",
              " ('доисторические', 1),\n",
              " ('телики', 1),\n",
              " ('тренюю', 1),\n",
              " ('шлегель', 1),\n",
              " ('выключался', 1),\n",
              " ('пхжааххв', 1),\n",
              " ('вправляет', 1),\n",
              " ('приплатить', 1),\n",
              " ('втащили', 1)]"
            ]
          },
          "metadata": {},
          "execution_count": 57
        }
      ]
    },
    {
      "cell_type": "code",
      "metadata": {
        "colab": {
          "base_uri": "https://localhost:8080/"
        },
        "id": "E8G1VnkTTqml",
        "outputId": "ecb5c47c-1ab6-418d-dfcb-367c8209d3e9"
      },
      "source": [
        "all_toks_counter2.most_common(10)"
      ],
      "execution_count": 58,
      "outputs": [
        {
          "output_type": "execute_result",
          "data": {
            "text/plain": [
              "[('не', 75035),\n",
              " ('_', 43300),\n",
              " ('на', 38197),\n",
              " ('что', 36103),\n",
              " ('как', 23572),\n",
              " ('меня', 21876),\n",
              " ('то', 20897),\n",
              " ('это', 19826),\n",
              " ('так', 19111),\n",
              " ('мне', 18925)]"
            ]
          },
          "metadata": {},
          "execution_count": 58
        }
      ]
    },
    {
      "cell_type": "markdown",
      "metadata": {
        "id": "7VbFaGRLEnqL"
      },
      "source": [
        "Мне кажется более разумным взять токены из второй предобработки, если что, вернусь к первому способу."
      ]
    },
    {
      "cell_type": "code",
      "metadata": {
        "id": "E7PzTo9uTrYd"
      },
      "source": [
        "new_tone = [t if t==1 else 0 for t in df['tone']]\n",
        "df['tone'] = new_tone\n",
        "train_df, val_df = train_test_split(df, test_size=0.25, shuffle=True, random_state=10, stratify=df['tone'])"
      ],
      "execution_count": 59,
      "outputs": []
    },
    {
      "cell_type": "code",
      "metadata": {
        "colab": {
          "base_uri": "https://localhost:8080/",
          "height": 176
        },
        "id": "-hz3NNGaYzvn",
        "outputId": "802de40e-ea9c-46eb-e269-0d878cb1e280"
      },
      "source": [
        "df[df['tone'] == 0].head(2)"
      ],
      "execution_count": 60,
      "outputs": [
        {
          "output_type": "execute_result",
          "data": {
            "text/html": [
              "<div>\n",
              "<style scoped>\n",
              "    .dataframe tbody tr th:only-of-type {\n",
              "        vertical-align: middle;\n",
              "    }\n",
              "\n",
              "    .dataframe tbody tr th {\n",
              "        vertical-align: top;\n",
              "    }\n",
              "\n",
              "    .dataframe thead th {\n",
              "        text-align: right;\n",
              "    }\n",
              "</style>\n",
              "<table border=\"1\" class=\"dataframe\">\n",
              "  <thead>\n",
              "    <tr style=\"text-align: right;\">\n",
              "      <th></th>\n",
              "      <th>index</th>\n",
              "      <th>id</th>\n",
              "      <th>1</th>\n",
              "      <th>nickname</th>\n",
              "      <th>text</th>\n",
              "      <th>tone</th>\n",
              "      <th>5</th>\n",
              "      <th>6</th>\n",
              "      <th>7</th>\n",
              "      <th>8</th>\n",
              "      <th>9</th>\n",
              "      <th>10</th>\n",
              "      <th>11</th>\n",
              "      <th>tokens</th>\n",
              "      <th>tokens2</th>\n",
              "    </tr>\n",
              "  </thead>\n",
              "  <tbody>\n",
              "    <tr>\n",
              "      <th>114911</th>\n",
              "      <td>0</td>\n",
              "      <td>408906762813579264</td>\n",
              "      <td>1386325944</td>\n",
              "      <td>dugarchikbellko</td>\n",
              "      <td>на работе был полный пиддес :| и так каждое за...</td>\n",
              "      <td>0</td>\n",
              "      <td>0</td>\n",
              "      <td>0</td>\n",
              "      <td>0</td>\n",
              "      <td>8064</td>\n",
              "      <td>111</td>\n",
              "      <td>94</td>\n",
              "      <td>2</td>\n",
              "      <td>[на, работе, был, полный, пиддес, так, каждое,...</td>\n",
              "      <td>[на, работе, был, полный, пиддес, так, каждое,...</td>\n",
              "    </tr>\n",
              "    <tr>\n",
              "      <th>114912</th>\n",
              "      <td>1</td>\n",
              "      <td>408906818262687744</td>\n",
              "      <td>1386325957</td>\n",
              "      <td>nugemycejela</td>\n",
              "      <td>Коллеги сидят рубятся в Urban terror, а я из-з...</td>\n",
              "      <td>0</td>\n",
              "      <td>0</td>\n",
              "      <td>0</td>\n",
              "      <td>0</td>\n",
              "      <td>26</td>\n",
              "      <td>42</td>\n",
              "      <td>39</td>\n",
              "      <td>0</td>\n",
              "      <td>[коллеги, сидят, рубятся, urban, terror, из, з...</td>\n",
              "      <td>[коллеги, сидят, рубятся, из, за, долбанной, в...</td>\n",
              "    </tr>\n",
              "  </tbody>\n",
              "</table>\n",
              "</div>"
            ],
            "text/plain": [
              "        index  ...                                            tokens2\n",
              "114911      0  ...  [на, работе, был, полный, пиддес, так, каждое,...\n",
              "114912      1  ...  [коллеги, сидят, рубятся, из, за, долбанной, в...\n",
              "\n",
              "[2 rows x 15 columns]"
            ]
          },
          "metadata": {},
          "execution_count": 60
        }
      ]
    },
    {
      "cell_type": "markdown",
      "metadata": {
        "id": "0iXxRM52E1QA"
      },
      "source": [
        "Припишем каждому слову айдишник (как больно, что все это надо делать руками, а не использовать прекрасные предобученные берты, например)\n",
        "\n",
        "Нулевой айди будет иметь паддинг (есть периодически проблема с отрицательными значениями (хотела сделать -1, но вспомнила, что иногда так лучше не делать))."
      ]
    },
    {
      "cell_type": "markdown",
      "metadata": {
        "id": "Wj4g78JByj7u"
      },
      "source": [
        "# TweeterDataset"
      ]
    },
    {
      "cell_type": "code",
      "metadata": {
        "id": "hZSpPPgJU4r6"
      },
      "source": [
        "word2id = {'PAD':0}\n",
        "\n",
        "for word in all_toks_counter2.keys():\n",
        "    word2id[word] = len(word2id)\n",
        "\n",
        "id2word = {i:word for word, i in word2id.items()}"
      ],
      "execution_count": 61,
      "outputs": []
    },
    {
      "cell_type": "code",
      "metadata": {
        "colab": {
          "base_uri": "https://localhost:8080/"
        },
        "id": "2Jbd1Wl4vLX1",
        "outputId": "6311773c-1c50-49d7-974d-069010df64bb"
      },
      "source": [
        "print(f'Число уникальных токенов - {len(word2id)}')"
      ],
      "execution_count": 121,
      "outputs": [
        {
          "output_type": "stream",
          "name": "stdout",
          "text": [
            "Число уникальных токенов - 171903\n"
          ]
        }
      ]
    },
    {
      "cell_type": "code",
      "metadata": {
        "id": "1H2sRa5SD3yB"
      },
      "source": [
        "class TweeterDataset(Dataset):\n",
        "\n",
        "    def __init__(self, dataset, word2id, device):\n",
        "        self.dataset = dataset['tokens2'].values\n",
        "        self.word2id = word2id\n",
        "        self.length = dataset.shape[0]\n",
        "        self.target = torch.Tensor(dataset['tone'].values)\n",
        "        self.device = device\n",
        "\n",
        "    def __len__(self):\n",
        "        return self.length\n",
        "\n",
        "    def __getitem__(self, idx): \n",
        "        tokens = self.dataset[idx]\n",
        "        ids = torch.LongTensor([self.word2id[tok] for tok in tokens if tok in self.word2id])\n",
        "        y = [self.target[idx]]\n",
        "        return ids, y\n",
        "\n",
        "    # пишу этот метод сюда, потом при итерации по батчам пригодится\n",
        "    def collate_fn(self, batch):\n",
        "      ids, y = list(zip(*batch))\n",
        "      padded_ids = pad_sequence(ids, batch_first=True).to(self.device)\n",
        "      y = torch.Tensor(y).to(self.device)\n",
        "      return padded_ids, y"
      ],
      "execution_count": 62,
      "outputs": []
    },
    {
      "cell_type": "code",
      "metadata": {
        "id": "dGTI5ehFD30v"
      },
      "source": [
        "device = torch.device('cuda') if torch.cuda.is_available() else torch.device('cpu')\n",
        "batch_size = 128\n",
        "\n",
        "train_dataset = TweeterDataset(train_df, word2id, device)\n",
        "val_dataset = TweeterDataset(val_df, word2id, device)\n",
        "\n",
        "train_sampler = RandomSampler(train_dataset)\n",
        "val_sampler = RandomSampler(val_dataset)\n",
        "\n",
        "train_dataloader = DataLoader(train_dataset,\n",
        "                              collate_fn = train_dataset.collate_fn,\n",
        "                              sampler=train_sampler,\n",
        "                              batch_size=batch_size)\n",
        "val_dataloader = DataLoader(val_dataset,\n",
        "                            collate_fn = val_dataset.collate_fn,\n",
        "                            sampler=val_sampler,\n",
        "                            batch_size=batch_size)"
      ],
      "execution_count": 74,
      "outputs": []
    },
    {
      "cell_type": "markdown",
      "metadata": {
        "id": "3-efd1yVLP1Y"
      },
      "source": [
        "Обучаем FastText на всем корпусе (в df лежат скончаченные negative, positive, использую токены, полученные функцией tokenize_line, надеюсь, все будет хорошо.)\n",
        "\n",
        "Из дз по НИСу заметила, что все-таки эмбеддинги размера 300 дают как больше нужной информации о слове и в лучшую сторону влияют на качество модели, поэтому решила сделать классические 300 (а не 100, например, который тоже достаточно популярный размер эмбеддингов, и не 512, потому что юбоюсь слишком сильно перегрузить память и тд)\n",
        "\n",
        "UPD: по итогу победили эмбеддинги размера 100, была не права!"
      ]
    },
    {
      "cell_type": "markdown",
      "metadata": {
        "id": "_v__UWcDTumM"
      },
      "source": [
        "# FastText"
      ]
    },
    {
      "cell_type": "code",
      "metadata": {
        "id": "whWigFs4D35b"
      },
      "source": [
        "embedding_size = 100\n",
        "model_ft = FastText(sentences=df['tokens2'].values, size=embedding_size)\n",
        "ft_weights = np.zeros((len(word2id), embedding_size))\n",
        "count = 0\n",
        "for w, i in word2id.items():\n",
        "    if w != 'PAD':\n",
        "      try:\n",
        "          ft_weights[i] = model_ft.wv[w]    \n",
        "      except:\n",
        "        count += 1\n",
        "        ft_weights[i] = np.random.normal(0,0.1,embedding_size)\n",
        "    else:\n",
        "      pass"
      ],
      "execution_count": 138,
      "outputs": []
    },
    {
      "cell_type": "markdown",
      "metadata": {
        "id": "ic4UpMGaTyrc"
      },
      "source": [
        "# Train, Evaluate Functions"
      ]
    },
    {
      "cell_type": "markdown",
      "metadata": {
        "id": "WiBhPT8WMPfR"
      },
      "source": [
        "Пишем функции для трейна и валидации (боже, храни семинары ФКН!)"
      ]
    },
    {
      "cell_type": "code",
      "metadata": {
        "id": "VHe9dLlED364"
      },
      "source": [
        "def train(train_dataloader, val_dataloader,\n",
        "          model, optimizer,\n",
        "          criterion, epochs,\n",
        "          metric=f1, scheduler=None,\n",
        "          verbose=False,\n",
        "          device=device):\n",
        "  losses = [] \n",
        "  f1s = []\n",
        "  val_losses = []\n",
        "  f1s = []\n",
        "  val_f1s = []\n",
        "  precs = []\n",
        "  val_precs = []\n",
        "  recs = []\n",
        "  val_recs = []\n",
        "        \n",
        "  for epoch in tqdm(range(epochs)):\n",
        "\n",
        "        train_loss, train_f1s, train_precs, train_recs = train_epoch(train_dataloader, model, criterion, metric, device)\n",
        "\n",
        "        losses.append(train_loss)\n",
        "        f1s.append(train_f1s)\n",
        "        precs.append(train_precs)\n",
        "        recs.append(train_recs)\n",
        "\n",
        "        val_loss, val_metric, val_precss, val_recss = evaluate(val_dataloader, model, criterion, metric, device)\n",
        "        print('----------')\n",
        "\n",
        "        val_losses.append(val_loss)\n",
        "        val_f1s.append(val_metric)\n",
        "        val_precs.append(val_precss)\n",
        "        val_recs.append(val_recss)\n",
        "        \n",
        "        model.train()\n",
        "        if scheduler:\n",
        "            if type(scheduler) is torch.optim.lr_scheduler.ReduceLROnPlateau:\n",
        "                scheduler.step(val_loss)\n",
        "            else:\n",
        "                scheduler.step()\n",
        "        print(f'Epoch {epoch+1}:')\n",
        "        print(f'Train loss: {train_loss}, Train metric: {train_f1s}')\n",
        "\n",
        "\n",
        "  return losses, val_losses, f1s, val_f1s, precs, val_precs, recs, val_recs\n",
        "\n",
        "def train_epoch(dataloader, model, criterion, metric=f1, device=device, verbose=False):\n",
        "    model.train()  \n",
        "    model.to(device)\n",
        "    train_loss = []\n",
        "    train_f1s = []\n",
        "    train_precs = []\n",
        "    train_recs = []\n",
        "    for i, (*x, y) in enumerate(dataloader, 1):\n",
        "            optimizer.zero_grad()\n",
        "            preds = model(*x)\n",
        "            loss = criterion(preds, y)\n",
        "            loss.backward()\n",
        "            optimizer.step()\n",
        "            train_loss.append(loss.item())\n",
        "            batch_metric = metric(preds.round().long(), y.long(), ignore_index=0)\n",
        "            train_f1s.append(batch_metric.cpu().numpy())\n",
        "            batch_metric = precision(preds.round().long(), y.long(), ignore_index=0)\n",
        "            train_precs.append(batch_metric.cpu().numpy())\n",
        "            batch_metric = recall(preds.round().long(), y.long(), ignore_index=0)\n",
        "            train_recs.append(batch_metric.cpu().numpy())\n",
        "            if verbose:\n",
        "                progress_bar.update(y.shape[0])\n",
        "\n",
        "    return np.mean(train_loss), np.mean(train_f1s), np.mean(train_precs), np.mean(train_recs)\n",
        "\n",
        "\n",
        "def evaluate(dataloader, model, criterion, metric, device=device, verbose=False):\n",
        "    epoch_loss = []\n",
        "    epoch_metric = []\n",
        "    val_precs = []\n",
        "    val_recs = []\n",
        "    model.eval() \n",
        "    with torch.no_grad():\n",
        "        for i, (*x, y) in enumerate(dataloader):\n",
        "            preds = model(*x)\n",
        "            loss = criterion(preds, y)\n",
        "            epoch_loss.append(loss.item())\n",
        "            batch_metric = metric(preds.round().long(), y.long(), ignore_index=0)\n",
        "            epoch_metric.append(batch_metric.cpu().numpy())\n",
        "            batch_metric = precision(preds.round().long(), y.long(), ignore_index=0)\n",
        "            val_precs.append(batch_metric.cpu().numpy())\n",
        "            batch_metric = recall(preds.round().long(), y.long(), ignore_index=0)\n",
        "            val_recs.append(batch_metric.cpu().numpy())\n",
        "    print(f'Val loss: {np.mean(epoch_loss)}, Val metric: {np.mean(epoch_metric)}')\n",
        "    \n",
        "    return np.mean(epoch_loss), np.mean(epoch_metric), np.mean(val_precs), np.mean(val_recs)"
      ],
      "execution_count": 107,
      "outputs": []
    },
    {
      "cell_type": "markdown",
      "metadata": {
        "id": "yWCmgZg7T2bp"
      },
      "source": [
        "# Model 1 - CNN на уровне слов"
      ]
    },
    {
      "cell_type": "markdown",
      "metadata": {
        "id": "NNuZG1AyUIJj"
      },
      "source": [
        "Для начала не использую никакие веса (которые, вообще-то лежат пока в запасе и ждут своего звездного часа), я повозилась с сеткой и тут сохраняю лучшее, что смогла сделать, помимо прекраснейшей инструкции: \"навешивание\" дропаут-слоя с достаточно, так сказать, большим значением p (так реально меньше сетка переобучатся - первый раз, когда это реально прям *очень сильно помогло*)\n",
        "\n",
        "\n",
        "Макс-пулинг, увеличила - жизнь стала лучше.\n",
        "\n",
        "P.S.: я навертела ерунду с прогресс-баром, это полная ерунда и не оценивается, энивей прошу прощения, не хватило времени красиво исправить (((( постараюсь в след. раз быть аккуратней с табуляцией и тд)\n",
        "\n",
        "P.S.2: я случайно удалила первые эксперименты, оставила (заново прогнала) один самый отстойный, чтобы показать, что подбор гиперпараметров (в моем случае был достаточно основанный на теор. знаниях, по-хорошему люди делают GridSearch, но для колаба это слишком тяжко)"
      ]
    },
    {
      "cell_type": "code",
      "metadata": {
        "id": "6b1A7zZ12IBC"
      },
      "source": [
        "class CNN_simple(nn.Module):\n",
        "    \n",
        "    def __init__(self, vocab_size, embedding_dim, pretrained_weights=None):\n",
        "        super().__init__()\n",
        "        self.embedding = nn.Embedding(vocab_size, embedding_dim)\n",
        "        if pretrained_weights is not None:\n",
        "            self.embedding.weight.data.copy_(torch.from_numpy(pretrained_weights))\n",
        "            self.embedding.weight.requires_grad = False\n",
        "        self.bigrams = nn.Conv1d(in_channels=embedding_dim, out_channels=100, kernel_size=2, padding='same')\n",
        "        self.trigrams = nn.Conv1d(in_channels=embedding_dim, out_channels=80, kernel_size=3, padding='same')\n",
        "        self.relu = nn.ReLU()\n",
        "        self.conv = nn.Conv1d(in_channels=180, out_channels=100, kernel_size=2, padding='same')\n",
        "        self.pooling = nn.MaxPool1d(kernel_size=2, stride=2)\n",
        "        self.hidden = nn.Linear(in_features=100, out_features=1)\n",
        "        self.out = nn.Sigmoid()\n",
        "\n",
        "    def forward(self, word):\n",
        "        embedded = self.embedding(word)\n",
        "        embedded = embedded.permute(0,2,1)\n",
        "        feature_map_bigrams = self.relu(self.bigrams(embedded))\n",
        "        feature_map_trigrams = self.relu(self.trigrams(embedded))\n",
        "        concat = torch.cat((feature_map_bigrams, feature_map_trigrams), 1)\n",
        "        concat = self.pooling(self.relu(self.conv(concat)))\n",
        "        pooling = concat.max(2)[0] \n",
        "        logits = self.hidden(pooling) \n",
        "        logits = self.out(logits)      \n",
        "        return logits"
      ],
      "execution_count": 146,
      "outputs": []
    },
    {
      "cell_type": "code",
      "metadata": {
        "colab": {
          "base_uri": "https://localhost:8080/"
        },
        "id": "DRJhkvoN2ZmX",
        "outputId": "8c420a1e-a5a9-4fa1-da9b-d5ab305f818b"
      },
      "source": [
        "model = CNN(len(word2id), 100, 1)\n",
        "optimizer = optim.Adam(model.parameters(), lr=1e-3)\n",
        "criterion = nn.BCELoss()\n",
        "train_loss, val_loss, train_f1, val_f1, precs, val_precs, recs, val_recs = train(train_dataloader=train_dataloader,\n",
        "                                               val_dataloader=val_dataloader,\n",
        "                                               model=model,\n",
        "                                               optimizer=optimizer,\n",
        "                                               criterion=criterion,\n",
        "                                               epochs=10,\n",
        "                                               verbose=True,\n",
        "                                               metric=f1)"
      ],
      "execution_count": 147,
      "outputs": [
        {
          "output_type": "stream",
          "name": "stderr",
          "text": [
            " 10%|█         | 1/10 [00:38<05:48, 38.76s/it]"
          ]
        },
        {
          "output_type": "stream",
          "name": "stdout",
          "text": [
            "Val loss: 0.6510300638976397, Val metric: 0.6609646677970886\n",
            "----------\n",
            "Epoch 1:\n",
            "Train loss: 0.6684917938440366, Train metric: 0.6000011563301086\n"
          ]
        },
        {
          "output_type": "stream",
          "name": "stderr",
          "text": [
            "\r 20%|██        | 2/10 [01:17<05:11, 38.96s/it]"
          ]
        },
        {
          "output_type": "stream",
          "name": "stdout",
          "text": [
            "Val loss: 0.6331453195831798, Val metric: 0.6891135573387146\n",
            "----------\n",
            "Epoch 2:\n",
            "Train loss: 0.6347983431547208, Train metric: 0.6463316679000854\n"
          ]
        },
        {
          "output_type": "stream",
          "name": "stderr",
          "text": [
            "\r 30%|███       | 3/10 [01:56<04:32, 38.91s/it]"
          ]
        },
        {
          "output_type": "stream",
          "name": "stdout",
          "text": [
            "Val loss: 0.6189384545023376, Val metric: 0.6990368962287903\n",
            "----------\n",
            "Epoch 3:\n",
            "Train loss: 0.612186081292934, Train metric: 0.6703751087188721\n"
          ]
        },
        {
          "output_type": "stream",
          "name": "stderr",
          "text": [
            "\r 40%|████      | 4/10 [02:35<03:53, 38.85s/it]"
          ]
        },
        {
          "output_type": "stream",
          "name": "stdout",
          "text": [
            "Val loss: 0.606603475438582, Val metric: 0.6953703165054321\n",
            "----------\n",
            "Epoch 4:\n",
            "Train loss: 0.5931957926068987, Train metric: 0.6880457997322083\n"
          ]
        },
        {
          "output_type": "stream",
          "name": "stderr",
          "text": [
            "\r 50%|█████     | 5/10 [03:14<03:13, 38.77s/it]"
          ]
        },
        {
          "output_type": "stream",
          "name": "stdout",
          "text": [
            "Val loss: 0.5984113698338603, Val metric: 0.7081239819526672\n",
            "----------\n",
            "Epoch 5:\n",
            "Train loss: 0.5779997766690147, Train metric: 0.7008727788925171\n"
          ]
        },
        {
          "output_type": "stream",
          "name": "stderr",
          "text": [
            "\r 60%|██████    | 6/10 [03:52<02:34, 38.74s/it]"
          ]
        },
        {
          "output_type": "stream",
          "name": "stdout",
          "text": [
            "Val loss: 0.58942454925797, Val metric: 0.7182284593582153\n",
            "----------\n",
            "Epoch 6:\n",
            "Train loss: 0.5644826307108528, Train metric: 0.7105743288993835\n"
          ]
        },
        {
          "output_type": "stream",
          "name": "stderr",
          "text": [
            "\r 70%|███████   | 7/10 [04:31<01:56, 38.84s/it]"
          ]
        },
        {
          "output_type": "stream",
          "name": "stdout",
          "text": [
            "Val loss: 0.5844260678366497, Val metric: 0.7251599431037903\n",
            "----------\n",
            "Epoch 7:\n",
            "Train loss: 0.5515819894191915, Train metric: 0.7218500971794128\n"
          ]
        },
        {
          "output_type": "stream",
          "name": "stderr",
          "text": [
            "\r 80%|████████  | 8/10 [05:10<01:17, 38.87s/it]"
          ]
        },
        {
          "output_type": "stream",
          "name": "stdout",
          "text": [
            "Val loss: 0.5769336576665844, Val metric: 0.7225741147994995\n",
            "----------\n",
            "Epoch 8:\n",
            "Train loss: 0.5397324647670402, Train metric: 0.7309826612472534\n"
          ]
        },
        {
          "output_type": "stream",
          "name": "stderr",
          "text": [
            "\r 90%|█████████ | 9/10 [05:49<00:38, 38.88s/it]"
          ]
        },
        {
          "output_type": "stream",
          "name": "stdout",
          "text": [
            "Val loss: 0.5713223727705242, Val metric: 0.7239679098129272\n",
            "----------\n",
            "Epoch 9:\n",
            "Train loss: 0.528726122209004, Train metric: 0.7379292845726013\n"
          ]
        },
        {
          "output_type": "stream",
          "name": "stderr",
          "text": [
            "100%|██████████| 10/10 [06:28<00:00, 38.88s/it]"
          ]
        },
        {
          "output_type": "stream",
          "name": "stdout",
          "text": [
            "Val loss: 0.5677344292939246, Val metric: 0.733214259147644\n",
            "----------\n",
            "Epoch 10:\n",
            "Train loss: 0.5192407941907868, Train metric: 0.7455936074256897\n"
          ]
        },
        {
          "output_type": "stream",
          "name": "stderr",
          "text": [
            "\n"
          ]
        }
      ]
    },
    {
      "cell_type": "code",
      "metadata": {
        "colab": {
          "base_uri": "https://localhost:8080/",
          "height": 294
        },
        "id": "RMMfWHuu2dyy",
        "outputId": "8ce9628a-e5e9-476c-e584-2867f282c68c"
      },
      "source": [
        "plt.plot(train_loss)\n",
        "plt.plot(val_loss)\n",
        "plt.title('BCE loss value')\n",
        "plt.ylabel('BCE loss')\n",
        "plt.xlabel('epoch')\n",
        "plt.legend(['train', 'val'], loc='upper right')\n",
        "plt.show()"
      ],
      "execution_count": 148,
      "outputs": [
        {
          "output_type": "display_data",
          "data": {
            "image/png": "[encoded data removed]",
            "text/plain": [
              "<Figure size 432x288 with 1 Axes>"
            ]
          },
          "metadata": {
            "needs_background": "light"
          }
        }
      ]
    },
    {
      "cell_type": "code",
      "metadata": {
        "colab": {
          "base_uri": "https://localhost:8080/",
          "height": 294
        },
        "id": "YOZAArzH2uW-",
        "outputId": "fe87af7a-86f3-48f2-f064-268dc115bb4d"
      },
      "source": [
        "plt.plot(train_f1)\n",
        "plt.plot(val_f1)\n",
        "plt.title('F1 score')\n",
        "plt.ylabel('F1 score')\n",
        "plt.xlabel('epoch')\n",
        "plt.legend(['train', 'val'], loc='upper right')\n",
        "plt.show()"
      ],
      "execution_count": 149,
      "outputs": [
        {
          "output_type": "display_data",
          "data": {
            "image/png": "[encoded data removed]",
            "text/plain": [
              "<Figure size 432x288 with 1 Axes>"
            ]
          },
          "metadata": {
            "needs_background": "light"
          }
        }
      ]
    },
    {
      "cell_type": "code",
      "metadata": {
        "colab": {
          "base_uri": "https://localhost:8080/",
          "height": 294
        },
        "id": "PXdC66Tw2uZk",
        "outputId": "192699b5-d82a-4187-e43a-30e33a561869"
      },
      "source": [
        "plt.plot(precs)\n",
        "plt.plot(val_precs)\n",
        "plt.title('Precision')\n",
        "plt.ylabel('Precision')\n",
        "plt.xlabel('epoch')\n",
        "plt.legend(['train', 'val'], loc='upper right')\n",
        "plt.show()"
      ],
      "execution_count": 150,
      "outputs": [
        {
          "output_type": "display_data",
          "data": {
            "image/png": "[encoded data removed]",
            "text/plain": [
              "<Figure size 432x288 with 1 Axes>"
            ]
          },
          "metadata": {
            "needs_background": "light"
          }
        }
      ]
    },
    {
      "cell_type": "code",
      "metadata": {
        "colab": {
          "base_uri": "https://localhost:8080/",
          "height": 294
        },
        "id": "RPE6-3u42ucW",
        "outputId": "ec458a87-73be-4df6-f0cf-2a2ace9b610c"
      },
      "source": [
        "plt.plot(precs)\n",
        "plt.plot(val_precs)\n",
        "plt.title('Precision')\n",
        "plt.ylabel('Precision')\n",
        "plt.xlabel('epoch')\n",
        "plt.legend(['train', 'val'], loc='upper right')\n",
        "plt.show()"
      ],
      "execution_count": 151,
      "outputs": [
        {
          "output_type": "display_data",
          "data": {
            "image/png": "[encoded data removed]",
            "text/plain": [
              "<Figure size 432x288 with 1 Axes>"
            ]
          },
          "metadata": {
            "needs_background": "light"
          }
        }
      ]
    },
    {
      "cell_type": "markdown",
      "metadata": {
        "id": "e7mmeiB94a4g"
      },
      "source": [
        "Тут, как было написано выше, чуть поиграем с дропаутами и все такое"
      ]
    },
    {
      "cell_type": "code",
      "metadata": {
        "id": "S-8L88f0TV4t"
      },
      "source": [
        "class CNN(nn.Module):\n",
        "    def __init__(self, vocab_size, embedding_size, out_features, pretrained_weights=None):\n",
        "        super().__init__()\n",
        "        self.embedding = nn.Embedding(vocab_size, embedding_size)\n",
        "        if pretrained_weights is not None:\n",
        "            self.embedding.weight.data.copy_(torch.from_numpy(pretrained_weights))\n",
        "            self.embedding.weight.requires_grad = False\n",
        "        #по \"временному\" dimension делается свертка\n",
        "        self.bigrams = nn.Conv1d(in_channels=embedding_size, out_channels=100, kernel_size=2, padding='same')\n",
        "        self.trigrams = nn.Conv1d(in_channels=embedding_size, out_channels=80, kernel_size=3, padding='same')\n",
        "        self.pooling = nn.MaxPool1d(kernel_size=3, stride=2)\n",
        "        self.relu = nn.ReLU()\n",
        "        self.hidden = nn.Linear(in_features=180, out_features=out_features)\n",
        "        self.dropout = nn.Dropout(p=0.5)\n",
        "        self.out = nn.Sigmoid()\n",
        "\n",
        "    def forward(self, word):\n",
        "        embedded = self.embedding(word)\n",
        "        embedded = embedded.permute(0,2,1)\n",
        "        feature_map_bigrams = self.dropout(self.pooling(self.relu(self.bigrams(embedded)))) #чуть уменьшаем признаковое пространство, а что делать, так лучше работаит\n",
        "        feature_map_trigrams = self.dropout(self.pooling(self.relu(self.trigrams(embedded))))\n",
        "        pool1 = feature_map_bigrams.max(2)[0]\n",
        "        pool2 = feature_map_trigrams.max(2)[0]\n",
        "        concat = torch.cat((pool1, pool2), 1)\n",
        "        logits = self.hidden(concat) \n",
        "        logits = self.out(logits)      \n",
        "        return logits"
      ],
      "execution_count": 108,
      "outputs": []
    },
    {
      "cell_type": "code",
      "metadata": {
        "id": "mwdbGcgjTsB8"
      },
      "source": [
        "model = CNN(len(word2id), 100, 1)\n",
        "optimizer = optim.Adam(model.parameters(), lr=1e-3)\n",
        "criterion = nn.BCELoss()"
      ],
      "execution_count": 114,
      "outputs": []
    },
    {
      "cell_type": "code",
      "metadata": {
        "colab": {
          "base_uri": "https://localhost:8080/"
        },
        "id": "no4pTLzEkgtK",
        "outputId": "785b22e9-8be9-4f5b-e47c-dd0d598c2a70"
      },
      "source": [
        "device"
      ],
      "execution_count": 115,
      "outputs": [
        {
          "output_type": "execute_result",
          "data": {
            "text/plain": [
              "device(type='cuda')"
            ]
          },
          "metadata": {},
          "execution_count": 115
        }
      ]
    },
    {
      "cell_type": "code",
      "metadata": {
        "colab": {
          "base_uri": "https://localhost:8080/"
        },
        "id": "UzE3np4kTsFQ",
        "outputId": "ca4d2523-d106-4af4-d3e9-8405fe68a207"
      },
      "source": [
        "train_loss, val_loss, train_f1, val_f1, precs, val_precs, recs, val_recs = train(train_dataloader=train_dataloader,\n",
        "                                               val_dataloader=val_dataloader,\n",
        "                                               model=model,\n",
        "                                               optimizer=optimizer,\n",
        "                                               criterion=criterion,\n",
        "                                               epochs=10,\n",
        "                                               verbose=True,\n",
        "                                               metric=f1)"
      ],
      "execution_count": 116,
      "outputs": [
        {
          "output_type": "stream",
          "name": "stderr",
          "text": [
            " 10%|█         | 1/10 [00:38<05:48, 38.74s/it]"
          ]
        },
        {
          "output_type": "stream",
          "name": "stdout",
          "text": [
            "Val loss: 0.6517390258408882, Val metric: 0.6650829315185547\n",
            "----------\n",
            "Epoch 1:\n",
            "Train loss: 0.6691533630951902, Train metric: 0.5999371409416199\n"
          ]
        },
        {
          "output_type": "stream",
          "name": "stderr",
          "text": [
            "\r 20%|██        | 2/10 [01:17<05:10, 38.76s/it]"
          ]
        },
        {
          "output_type": "stream",
          "name": "stdout",
          "text": [
            "Val loss: 0.6357462330981418, Val metric: 0.6944575309753418\n",
            "----------\n",
            "Epoch 2:\n",
            "Train loss: 0.6349921990157966, Train metric: 0.6454562544822693\n"
          ]
        },
        {
          "output_type": "stream",
          "name": "stderr",
          "text": [
            "\r 30%|███       | 3/10 [01:56<04:31, 38.79s/it]"
          ]
        },
        {
          "output_type": "stream",
          "name": "stdout",
          "text": [
            "Val loss: 0.62054012272809, Val metric: 0.7023982405662537\n",
            "----------\n",
            "Epoch 3:\n",
            "Train loss: 0.6129377225287875, Train metric: 0.6680210828781128\n"
          ]
        },
        {
          "output_type": "stream",
          "name": "stderr",
          "text": [
            "\r 40%|████      | 4/10 [02:35<03:52, 38.81s/it]"
          ]
        },
        {
          "output_type": "stream",
          "name": "stdout",
          "text": [
            "Val loss: 0.6080297204825256, Val metric: 0.703310489654541\n",
            "----------\n",
            "Epoch 4:\n",
            "Train loss: 0.5940627097859419, Train metric: 0.6865477561950684\n"
          ]
        },
        {
          "output_type": "stream",
          "name": "stderr",
          "text": [
            "\r 50%|█████     | 5/10 [03:14<03:14, 38.85s/it]"
          ]
        },
        {
          "output_type": "stream",
          "name": "stdout",
          "text": [
            "Val loss: 0.5984924134907422, Val metric: 0.7166231274604797\n",
            "----------\n",
            "Epoch 5:\n",
            "Train loss: 0.5787303452653096, Train metric: 0.6995781064033508\n"
          ]
        },
        {
          "output_type": "stream",
          "name": "stderr",
          "text": [
            "\r 60%|██████    | 6/10 [03:52<02:35, 38.84s/it]"
          ]
        },
        {
          "output_type": "stream",
          "name": "stdout",
          "text": [
            "Val loss: 0.5892439865851188, Val metric: 0.7080183029174805\n",
            "----------\n",
            "Epoch 6:\n",
            "Train loss: 0.5647030480374071, Train metric: 0.7113673090934753\n"
          ]
        },
        {
          "output_type": "stream",
          "name": "stderr",
          "text": [
            "\r 70%|███████   | 7/10 [04:31<01:56, 38.83s/it]"
          ]
        },
        {
          "output_type": "stream",
          "name": "stdout",
          "text": [
            "Val loss: 0.5837928362794824, Val metric: 0.7261782884597778\n",
            "----------\n",
            "Epoch 7:\n",
            "Train loss: 0.5519257736385317, Train metric: 0.7211155891418457\n"
          ]
        },
        {
          "output_type": "stream",
          "name": "stderr",
          "text": [
            "\r 80%|████████  | 8/10 [05:10<01:17, 38.77s/it]"
          ]
        },
        {
          "output_type": "stream",
          "name": "stdout",
          "text": [
            "Val loss: 0.5774835519291259, Val metric: 0.7303116321563721\n",
            "----------\n",
            "Epoch 8:\n",
            "Train loss: 0.538473376990261, Train metric: 0.7305161952972412\n"
          ]
        },
        {
          "output_type": "stream",
          "name": "stderr",
          "text": [
            "Epoch 1:   0%|          | 0/170125 [45:04<?, ?it/s]\n",
            " 90%|█████████ | 9/10 [05:49<00:38, 38.92s/it]"
          ]
        },
        {
          "output_type": "stream",
          "name": "stdout",
          "text": [
            "Val loss: 0.5710060530686164, Val metric: 0.729766845703125\n",
            "----------\n",
            "Epoch 9:\n",
            "Train loss: 0.5282026186473388, Train metric: 0.7393754124641418\n"
          ]
        },
        {
          "output_type": "stream",
          "name": "stderr",
          "text": [
            "100%|██████████| 10/10 [06:28<00:00, 38.83s/it]"
          ]
        },
        {
          "output_type": "stream",
          "name": "stdout",
          "text": [
            "Val loss: 0.5671071868624773, Val metric: 0.7367988228797913\n",
            "----------\n",
            "Epoch 10:\n",
            "Train loss: 0.5181119450052878, Train metric: 0.7461197972297668\n"
          ]
        },
        {
          "output_type": "stream",
          "name": "stderr",
          "text": [
            "\n"
          ]
        }
      ]
    },
    {
      "cell_type": "code",
      "metadata": {
        "colab": {
          "base_uri": "https://localhost:8080/",
          "height": 294
        },
        "id": "4MMr1EWsTsIF",
        "outputId": "e3447180-3f7b-490c-9e36-f5da05ae617c"
      },
      "source": [
        "plt.plot(train_loss)\n",
        "plt.plot(val_loss)\n",
        "plt.title('BCE loss value')\n",
        "plt.ylabel('BCE loss')\n",
        "plt.xlabel('epoch')\n",
        "plt.legend(['train', 'val'], loc='upper right')\n",
        "plt.show()"
      ],
      "execution_count": 117,
      "outputs": [
        {
          "output_type": "display_data",
          "data": {
            "image/png": "[encoded data removed]",
            "text/plain": [
              "<Figure size 432x288 with 1 Axes>"
            ]
          },
          "metadata": {
            "needs_background": "light"
          }
        }
      ]
    },
    {
      "cell_type": "code",
      "metadata": {
        "colab": {
          "base_uri": "https://localhost:8080/",
          "height": 294
        },
        "id": "xbWD-vr1tsz5",
        "outputId": "20be7d94-9a49-410a-c22c-e5578c053812"
      },
      "source": [
        "plt.plot(train_f1)\n",
        "plt.plot(val_f1)\n",
        "plt.title('F1 score')\n",
        "plt.ylabel('F1 score')\n",
        "plt.xlabel('epoch')\n",
        "plt.legend(['train', 'val'], loc='upper right')\n",
        "plt.show()"
      ],
      "execution_count": 118,
      "outputs": [
        {
          "output_type": "display_data",
          "data": {
            "image/png": "[encoded data removed]",
            "text/plain": [
              "<Figure size 432x288 with 1 Axes>"
            ]
          },
          "metadata": {
            "needs_background": "light"
          }
        }
      ]
    },
    {
      "cell_type": "code",
      "metadata": {
        "colab": {
          "base_uri": "https://localhost:8080/",
          "height": 294
        },
        "id": "Hpdz1ljLtxi8",
        "outputId": "a5eff1a8-06a6-4916-c4ce-62f053c0a49e"
      },
      "source": [
        "plt.plot(precs)\n",
        "plt.plot(val_precs)\n",
        "plt.title('Precision')\n",
        "plt.ylabel('Precision')\n",
        "plt.xlabel('epoch')\n",
        "plt.legend(['train', 'val'], loc='upper right')\n",
        "plt.show()"
      ],
      "execution_count": 119,
      "outputs": [
        {
          "output_type": "display_data",
          "data": {
            "image/png": "[encoded data removed]",
            "text/plain": [
              "<Figure size 432x288 with 1 Axes>"
            ]
          },
          "metadata": {
            "needs_background": "light"
          }
        }
      ]
    },
    {
      "cell_type": "code",
      "metadata": {
        "colab": {
          "base_uri": "https://localhost:8080/",
          "height": 294
        },
        "id": "lt_C-Wd6txlZ",
        "outputId": "13b1657e-9c64-4403-9ac2-5b23dd1c90dc"
      },
      "source": [
        "plt.plot(recs)\n",
        "plt.plot(val_recs)\n",
        "plt.title('Recall')\n",
        "plt.ylabel('Recall')\n",
        "plt.xlabel('epoch')\n",
        "plt.legend(['train', 'val'], loc='upper right')\n",
        "plt.show()"
      ],
      "execution_count": 120,
      "outputs": [
        {
          "output_type": "display_data",
          "data": {
            "image/png": "[encoded data removed]",
            "text/plain": [
              "<Figure size 432x288 with 1 Axes>"
            ]
          },
          "metadata": {
            "needs_background": "light"
          }
        }
      ]
    },
    {
      "cell_type": "markdown",
      "metadata": {
        "id": "ZraSfn09uOfx"
      },
      "source": [
        "Лосс падает,  f1 растет, жизнь прекрасно. Особо не пахнет переобучением, это очень-очень радует, но хочется улучшить качество модельки (после кучи попыток и страданий), попробуем.\n",
        "Эта модель - самая лучшая, ниже - сработали не лучше этой."
      ]
    },
    {
      "cell_type": "markdown",
      "metadata": {
        "id": "9J5XLjfNn3GB"
      },
      "source": [
        "## Model 1: уменьшим learning rate :)"
      ]
    },
    {
      "cell_type": "code",
      "metadata": {
        "id": "yGg2q0pdn_27"
      },
      "source": [
        "model = CNN(len(word2id), 100, 1)\n",
        "optimizer = optim.Adam(model.parameters(), lr=1e-4)\n",
        "criterion = nn.BCELoss()"
      ],
      "execution_count": 122,
      "outputs": []
    },
    {
      "cell_type": "code",
      "metadata": {
        "colab": {
          "base_uri": "https://localhost:8080/"
        },
        "id": "j8egUPLVoAAL",
        "outputId": "e8ec7269-c453-4aea-de00-d8cf591a38e8"
      },
      "source": [
        "train_loss, val_loss, train_f1, val_f1, precs, val_precs, recs, val_recs = train(train_dataloader=train_dataloader,\n",
        "                                               val_dataloader=val_dataloader,\n",
        "                                               model=model,\n",
        "                                               optimizer=optimizer,\n",
        "                                               criterion=criterion,\n",
        "                                               epochs=10,\n",
        "                                               verbose=True,\n",
        "                                               metric=f1)"
      ],
      "execution_count": 123,
      "outputs": [
        {
          "output_type": "stream",
          "name": "stderr",
          "text": [
            " 10%|█         | 1/10 [00:38<05:48, 38.69s/it]"
          ]
        },
        {
          "output_type": "stream",
          "name": "stdout",
          "text": [
            "Val loss: 0.6829429740035856, Val metric: 0.5640218257904053\n",
            "----------\n",
            "Epoch 1:\n",
            "Train loss: 0.7028612066928606, Train metric: 0.5253835320472717\n"
          ]
        },
        {
          "output_type": "stream",
          "name": "stderr",
          "text": [
            "\r 20%|██        | 2/10 [01:17<05:10, 38.77s/it]"
          ]
        },
        {
          "output_type": "stream",
          "name": "stdout",
          "text": [
            "Val loss: 0.6754297420785234, Val metric: 0.614020049571991\n",
            "----------\n",
            "Epoch 2:\n",
            "Train loss: 0.6857119853335215, Train metric: 0.5705634951591492\n"
          ]
        },
        {
          "output_type": "stream",
          "name": "stderr",
          "text": [
            "\r 30%|███       | 3/10 [01:56<04:32, 38.87s/it]"
          ]
        },
        {
          "output_type": "stream",
          "name": "stdout",
          "text": [
            "Val loss: 0.6705287050556492, Val metric: 0.6322234272956848\n",
            "----------\n",
            "Epoch 3:\n",
            "Train loss: 0.6769356895210151, Train metric: 0.588345468044281\n"
          ]
        },
        {
          "output_type": "stream",
          "name": "stderr",
          "text": [
            "\r 40%|████      | 4/10 [02:35<03:53, 38.94s/it]"
          ]
        },
        {
          "output_type": "stream",
          "name": "stdout",
          "text": [
            "Val loss: 0.6665581694325885, Val metric: 0.6373040676116943\n",
            "----------\n",
            "Epoch 4:\n",
            "Train loss: 0.6704908502729315, Train metric: 0.6000803112983704\n"
          ]
        },
        {
          "output_type": "stream",
          "name": "stderr",
          "text": [
            "\r 50%|█████     | 5/10 [03:14<03:14, 38.97s/it]"
          ]
        },
        {
          "output_type": "stream",
          "name": "stdout",
          "text": [
            "Val loss: 0.6630870785799112, Val metric: 0.6385737657546997\n",
            "----------\n",
            "Epoch 5:\n",
            "Train loss: 0.6650524712146673, Train metric: 0.6081936955451965\n"
          ]
        },
        {
          "output_type": "stream",
          "name": "stderr",
          "text": [
            "\r 60%|██████    | 6/10 [03:53<02:36, 39.03s/it]"
          ]
        },
        {
          "output_type": "stream",
          "name": "stdout",
          "text": [
            "Val loss: 0.6603628610436981, Val metric: 0.6467927694320679\n",
            "----------\n",
            "Epoch 6:\n",
            "Train loss: 0.660270797489281, Train metric: 0.6140907406806946\n"
          ]
        },
        {
          "output_type": "stream",
          "name": "stderr",
          "text": [
            "\r 70%|███████   | 7/10 [04:32<01:57, 39.06s/it]"
          ]
        },
        {
          "output_type": "stream",
          "name": "stdout",
          "text": [
            "Val loss: 0.6579552978814185, Val metric: 0.6443702578544617\n",
            "----------\n",
            "Epoch 7:\n",
            "Train loss: 0.6571420100846685, Train metric: 0.6190496683120728\n"
          ]
        },
        {
          "output_type": "stream",
          "name": "stderr",
          "text": [
            "\r 80%|████████  | 8/10 [05:11<01:18, 39.08s/it]"
          ]
        },
        {
          "output_type": "stream",
          "name": "stdout",
          "text": [
            "Val loss: 0.6552660633046348, Val metric: 0.6484041810035706\n",
            "----------\n",
            "Epoch 8:\n",
            "Train loss: 0.6531485605956917, Train metric: 0.6247847676277161\n"
          ]
        },
        {
          "output_type": "stream",
          "name": "stderr",
          "text": [
            "\r 90%|█████████ | 9/10 [05:51<00:39, 39.07s/it]"
          ]
        },
        {
          "output_type": "stream",
          "name": "stdout",
          "text": [
            "Val loss: 0.6525097475261301, Val metric: 0.6560596227645874\n",
            "----------\n",
            "Epoch 9:\n",
            "Train loss: 0.6493040978012229, Train metric: 0.6298478245735168\n"
          ]
        },
        {
          "output_type": "stream",
          "name": "stderr",
          "text": [
            "100%|██████████| 10/10 [06:30<00:00, 39.01s/it]"
          ]
        },
        {
          "output_type": "stream",
          "name": "stdout",
          "text": [
            "Val loss: 0.6503455558338681, Val metric: 0.6559230089187622\n",
            "----------\n",
            "Epoch 10:\n",
            "Train loss: 0.6462368672951719, Train metric: 0.6324663758277893\n"
          ]
        },
        {
          "output_type": "stream",
          "name": "stderr",
          "text": [
            "\n"
          ]
        }
      ]
    },
    {
      "cell_type": "code",
      "metadata": {
        "colab": {
          "base_uri": "https://localhost:8080/",
          "height": 294
        },
        "id": "lEosWVGZvpb0",
        "outputId": "025a99f7-f975-4d5c-d666-4292d5f40e26"
      },
      "source": [
        "plt.plot(train_loss)\n",
        "plt.plot(val_loss)\n",
        "plt.title('BCE loss value')\n",
        "plt.ylabel('BCE loss')\n",
        "plt.xlabel('epoch')\n",
        "plt.legend(['train', 'val'], loc='upper right')\n",
        "plt.show()"
      ],
      "execution_count": 124,
      "outputs": [
        {
          "output_type": "display_data",
          "data": {
            "image/png": "[encoded data removed]",
            "text/plain": [
              "<Figure size 432x288 with 1 Axes>"
            ]
          },
          "metadata": {
            "needs_background": "light"
          }
        }
      ]
    },
    {
      "cell_type": "code",
      "metadata": {
        "colab": {
          "base_uri": "https://localhost:8080/",
          "height": 294
        },
        "id": "PP3FTkLVvpla",
        "outputId": "400cf9b9-5af0-4fb4-e48e-fc5210bd3631"
      },
      "source": [
        "plt.plot(train_f1)\n",
        "plt.plot(val_f1)\n",
        "plt.title('F1 score')\n",
        "plt.ylabel('F1 score')\n",
        "plt.xlabel('epoch')\n",
        "plt.legend(['train', 'val'], loc='upper right')\n",
        "plt.show()"
      ],
      "execution_count": 125,
      "outputs": [
        {
          "output_type": "display_data",
          "data": {
            "image/png": "[encoded data removed]",
            "text/plain": [
              "<Figure size 432x288 with 1 Axes>"
            ]
          },
          "metadata": {
            "needs_background": "light"
          }
        }
      ]
    },
    {
      "cell_type": "code",
      "metadata": {
        "colab": {
          "base_uri": "https://localhost:8080/",
          "height": 294
        },
        "id": "6hhBRPNTvpoV",
        "outputId": "b635f626-59a2-4dcc-e0be-7877bcd343ff"
      },
      "source": [
        "plt.plot(precs)\n",
        "plt.plot(val_precs)\n",
        "plt.title('Precision')\n",
        "plt.ylabel('Precision')\n",
        "plt.xlabel('epoch')\n",
        "plt.legend(['train', 'val'], loc='upper right')\n",
        "plt.show()"
      ],
      "execution_count": 126,
      "outputs": [
        {
          "output_type": "display_data",
          "data": {
            "image/png": "[encoded data removed]",
            "text/plain": [
              "<Figure size 432x288 with 1 Axes>"
            ]
          },
          "metadata": {
            "needs_background": "light"
          }
        }
      ]
    },
    {
      "cell_type": "code",
      "metadata": {
        "colab": {
          "base_uri": "https://localhost:8080/",
          "height": 294
        },
        "id": "jS63MbvKvprT",
        "outputId": "8154bd8c-f230-4c1a-e870-4b3af1113837"
      },
      "source": [
        "plt.plot(recs)\n",
        "plt.plot(val_recs)\n",
        "plt.title('Recall')\n",
        "plt.ylabel('Recall')\n",
        "plt.xlabel('epoch')\n",
        "plt.legend(['train', 'val'], loc='upper right')\n",
        "plt.show()"
      ],
      "execution_count": 127,
      "outputs": [
        {
          "output_type": "display_data",
          "data": {
            "image/png": "[encoded data removed]",
            "text/plain": [
              "<Figure size 432x288 with 1 Axes>"
            ]
          },
          "metadata": {
            "needs_background": "light"
          }
        }
      ]
    },
    {
      "cell_type": "markdown",
      "metadata": {
        "id": "BIdkeHPFxaKM"
      },
      "source": [
        "Нет, лучше не стало, ну ничего :) Я, честно говоря, удивилена, но на это и гиперпараметры, чтобы их подбирать :)\n",
        "\n",
        "Попробуем бахнуть ебмеддинги, которые мы получили, обучив FastText модельку на нашем датасете, думаю, тут точно должно улучшиться качество модели.\n"
      ]
    },
    {
      "cell_type": "markdown",
      "metadata": {
        "id": "NOOXnZyZnxkQ"
      },
      "source": [
        "## Model 1 + FastText"
      ]
    },
    {
      "cell_type": "code",
      "metadata": {
        "id": "9jGIfW7tYHl-"
      },
      "source": [
        "model = CNN(len(word2id), 100, 1, pretrained_weights=ft_weights)\n",
        "optimizer = optim.Adam(model.parameters(), lr=1e-3)\n",
        "criterion = nn.BCELoss()"
      ],
      "execution_count": 139,
      "outputs": []
    },
    {
      "cell_type": "code",
      "metadata": {
        "colab": {
          "base_uri": "https://localhost:8080/"
        },
        "id": "HWFKfqz3xvNW",
        "outputId": "4c52f040-4984-4bf1-84fd-d8e07ae0598e"
      },
      "source": [
        "train_loss, val_loss, train_f1, val_f1, precs, val_precs, recs, val_recs = train(train_dataloader=train_dataloader,\n",
        "                                               val_dataloader=val_dataloader,\n",
        "                                               model=model,\n",
        "                                               optimizer=optimizer,\n",
        "                                               criterion=criterion,\n",
        "                                               epochs=10,\n",
        "                                               metric=f1)"
      ],
      "execution_count": 140,
      "outputs": [
        {
          "output_type": "stream",
          "name": "stderr",
          "text": [
            " 10%|█         | 1/10 [00:21<03:13, 21.45s/it]"
          ]
        },
        {
          "output_type": "stream",
          "name": "stdout",
          "text": [
            "Val loss: 0.6213200662855629, Val metric: 0.6631161570549011\n",
            "----------\n",
            "Epoch 1:\n",
            "Train loss: 0.6396130939623467, Train metric: 0.6449798345565796\n"
          ]
        },
        {
          "output_type": "stream",
          "name": "stderr",
          "text": [
            "\r 20%|██        | 2/10 [00:42<02:51, 21.40s/it]"
          ]
        },
        {
          "output_type": "stream",
          "name": "stdout",
          "text": [
            "Val loss: 0.6104800644087361, Val metric: 0.6361954212188721\n",
            "----------\n",
            "Epoch 2:\n",
            "Train loss: 0.6096295188692279, Train metric: 0.6756892204284668\n"
          ]
        },
        {
          "output_type": "stream",
          "name": "stderr",
          "text": [
            "\r 30%|███       | 3/10 [01:04<02:29, 21.34s/it]"
          ]
        },
        {
          "output_type": "stream",
          "name": "stdout",
          "text": [
            "Val loss: 0.5997631767311612, Val metric: 0.6603642106056213\n",
            "----------\n",
            "Epoch 3:\n",
            "Train loss: 0.5982835314775768, Train metric: 0.6848755478858948\n"
          ]
        },
        {
          "output_type": "stream",
          "name": "stderr",
          "text": [
            "\r 40%|████      | 4/10 [01:25<02:07, 21.22s/it]"
          ]
        },
        {
          "output_type": "stream",
          "name": "stdout",
          "text": [
            "Val loss: 0.598058659348402, Val metric: 0.6400434970855713\n",
            "----------\n",
            "Epoch 4:\n",
            "Train loss: 0.5895090215412297, Train metric: 0.6926665902137756\n"
          ]
        },
        {
          "output_type": "stream",
          "name": "stderr",
          "text": [
            "\r 50%|█████     | 5/10 [01:46<01:45, 21.19s/it]"
          ]
        },
        {
          "output_type": "stream",
          "name": "stdout",
          "text": [
            "Val loss: 0.5854043277937013, Val metric: 0.7062087059020996\n",
            "----------\n",
            "Epoch 5:\n",
            "Train loss: 0.5831339357266748, Train metric: 0.6975019574165344\n"
          ]
        },
        {
          "output_type": "stream",
          "name": "stderr",
          "text": [
            "\r 60%|██████    | 6/10 [02:07<01:24, 21.22s/it]"
          ]
        },
        {
          "output_type": "stream",
          "name": "stdout",
          "text": [
            "Val loss: 0.5807184960928049, Val metric: 0.7016022801399231\n",
            "----------\n",
            "Epoch 6:\n",
            "Train loss: 0.5788609355015862, Train metric: 0.7019743919372559\n"
          ]
        },
        {
          "output_type": "stream",
          "name": "stderr",
          "text": [
            "\r 70%|███████   | 7/10 [02:28<01:03, 21.28s/it]"
          ]
        },
        {
          "output_type": "stream",
          "name": "stdout",
          "text": [
            "Val loss: 0.5855445128840369, Val metric: 0.7309555411338806\n",
            "----------\n",
            "Epoch 7:\n",
            "Train loss: 0.5748842898392139, Train metric: 0.7045432329177856\n"
          ]
        },
        {
          "output_type": "stream",
          "name": "stderr",
          "text": [
            "\r 80%|████████  | 8/10 [02:50<00:42, 21.31s/it]"
          ]
        },
        {
          "output_type": "stream",
          "name": "stdout",
          "text": [
            "Val loss: 0.5757030092918121, Val metric: 0.6961662769317627\n",
            "----------\n",
            "Epoch 8:\n",
            "Train loss: 0.5716715093618049, Train metric: 0.7083660364151001\n"
          ]
        },
        {
          "output_type": "stream",
          "name": "stderr",
          "text": [
            "\r 90%|█████████ | 9/10 [03:11<00:21, 21.30s/it]"
          ]
        },
        {
          "output_type": "stream",
          "name": "stdout",
          "text": [
            "Val loss: 0.5787635535538733, Val metric: 0.6799172163009644\n",
            "----------\n",
            "Epoch 9:\n",
            "Train loss: 0.5678395975801281, Train metric: 0.711850106716156\n"
          ]
        },
        {
          "output_type": "stream",
          "name": "stderr",
          "text": [
            "100%|██████████| 10/10 [03:32<00:00, 21.28s/it]"
          ]
        },
        {
          "output_type": "stream",
          "name": "stdout",
          "text": [
            "Val loss: 0.5721127232452771, Val metric: 0.7033324837684631\n",
            "----------\n",
            "Epoch 10:\n",
            "Train loss: 0.5661381069654808, Train metric: 0.7119336724281311\n"
          ]
        },
        {
          "output_type": "stream",
          "name": "stderr",
          "text": [
            "\n"
          ]
        }
      ]
    },
    {
      "cell_type": "code",
      "metadata": {
        "colab": {
          "base_uri": "https://localhost:8080/",
          "height": 294
        },
        "id": "hZ3CA0DJ11X2",
        "outputId": "58769ffb-fa6b-4838-9087-721c8979832a"
      },
      "source": [
        "plt.plot(train_loss)\n",
        "plt.plot(val_loss)\n",
        "plt.title('BCE loss value')\n",
        "plt.ylabel('BCE loss')\n",
        "plt.xlabel('epoch')\n",
        "plt.legend(['train', 'val'], loc='upper right')\n",
        "plt.show()"
      ],
      "execution_count": 141,
      "outputs": [
        {
          "output_type": "display_data",
          "data": {
            "image/png": "[encoded data removed]",
            "text/plain": [
              "<Figure size 432x288 with 1 Axes>"
            ]
          },
          "metadata": {
            "needs_background": "light"
          }
        }
      ]
    },
    {
      "cell_type": "code",
      "metadata": {
        "colab": {
          "base_uri": "https://localhost:8080/",
          "height": 294
        },
        "id": "CNEwwsVL0Cs4",
        "outputId": "1a84e62d-a11c-4aad-b2b0-6bad1cdfe8e2"
      },
      "source": [
        "plt.plot(train_f1)\n",
        "plt.plot(val_f1)\n",
        "plt.title('F1 score')\n",
        "plt.ylabel('F1 score')\n",
        "plt.xlabel('epoch')\n",
        "plt.legend(['train', 'val'], loc='upper right')\n",
        "plt.show()"
      ],
      "execution_count": 142,
      "outputs": [
        {
          "output_type": "display_data",
          "data": {
            "image/png": "[encoded data removed]",
            "text/plain": [
              "<Figure size 432x288 with 1 Axes>"
            ]
          },
          "metadata": {
            "needs_background": "light"
          }
        }
      ]
    },
    {
      "cell_type": "code",
      "metadata": {
        "colab": {
          "base_uri": "https://localhost:8080/",
          "height": 294
        },
        "id": "34Icw1F60CvX",
        "outputId": "fe0c957e-d361-4389-c087-80a79d5938cf"
      },
      "source": [
        "plt.plot(precs)\n",
        "plt.plot(val_precs)\n",
        "plt.title('Precision')\n",
        "plt.ylabel('Precision')\n",
        "plt.xlabel('epoch')\n",
        "plt.legend(['train', 'val'], loc='upper right')\n",
        "plt.show()"
      ],
      "execution_count": 143,
      "outputs": [
        {
          "output_type": "display_data",
          "data": {
            "image/png": "[encoded data removed]",
            "text/plain": [
              "<Figure size 432x288 with 1 Axes>"
            ]
          },
          "metadata": {
            "needs_background": "light"
          }
        }
      ]
    },
    {
      "cell_type": "code",
      "metadata": {
        "colab": {
          "base_uri": "https://localhost:8080/",
          "height": 294
        },
        "id": "SW5I55_40ODm",
        "outputId": "84c6af94-3c31-4c37-afe3-b24bb528fcc5"
      },
      "source": [
        "plt.plot(recs)\n",
        "plt.plot(val_recs)\n",
        "plt.title('Recall')\n",
        "plt.ylabel('Recall')\n",
        "plt.xlabel('epoch')\n",
        "plt.legend(['train', 'val'], loc='upper right')\n",
        "plt.show()"
      ],
      "execution_count": 144,
      "outputs": [
        {
          "output_type": "display_data",
          "data": {
            "image/png": "[encoded data removed]",
            "text/plain": [
              "<Figure size 432x288 with 1 Axes>"
            ]
          },
          "metadata": {
            "needs_background": "light"
          }
        }
      ]
    },
    {
      "cell_type": "markdown",
      "metadata": {
        "id": "7o5Xcy4X0R4j"
      },
      "source": [
        "Не улучшил фасттекст особо качество модели, но ничего страшного, опять же, при чуть другой архитектуре/при чуть других параметрах, может быть, все было бы и лучше)"
      ]
    },
    {
      "cell_type": "markdown",
      "metadata": {
        "id": "t-3QTy7f34w0"
      },
      "source": [
        "В любом случае, совершенству нет предела, и можно и число эпох увеличивать, и какие-нибудь слои присобачивать еще (может, подумать что-то про аттеншн, почему нет, можно поприкручивать scheduler - я его указывала в аргументах, но для работы с моделью ниже, и с learning rate что-то думать, и с размерами эмбеддингов, и с размерами кернелов в пулинге и вообще свертках, в общем, простор для экспериментов огромный )"
      ]
    },
    {
      "cell_type": "markdown",
      "metadata": {
        "id": "OB6oJYcOypUz"
      },
      "source": [
        "# WordSymDataset"
      ]
    },
    {
      "cell_type": "markdown",
      "metadata": {
        "id": "JrG7wDyUv8Au"
      },
      "source": [
        "посчитаем символы и отфильтруем по частоте встрпечаемости: порог 1."
      ]
    },
    {
      "cell_type": "code",
      "metadata": {
        "colab": {
          "base_uri": "https://localhost:8080/"
        },
        "id": "ulONRNetsuTk",
        "outputId": "06ef9511-a5b7-4f14-ac9c-230f959c2afe"
      },
      "source": [
        "syms = Counter()\n",
        "for text in df['tokens2']:\n",
        "    syms.update(list(text))\n",
        "print(len(syms))\n",
        "\n",
        "filtered_syms = set()\n",
        "for s in syms.keys():\n",
        "    if syms[s] > 1:\n",
        "        filtered_syms.add(s)\n",
        "print(len(filtered_syms))"
      ],
      "execution_count": 153,
      "outputs": [
        {
          "output_type": "stream",
          "name": "stdout",
          "text": [
            "171902\n",
            "74082\n"
          ]
        }
      ]
    },
    {
      "cell_type": "markdown",
      "metadata": {
        "id": "qQde7ia_yJIg"
      },
      "source": [
        "Делаем словарики для маппинга символов в модельке, тут добавлен помимо 'PAD' еще и 'UNK' - чтобы при встрече \"незнакомого\" (того, который мы убрали после фильтрации) символа, ничего не поломалось"
      ]
    },
    {
      "cell_type": "code",
      "metadata": {
        "id": "Q3b-LRXAtW57"
      },
      "source": [
        "symbol2id = {'PAD':0, 'UNK': 1} \n",
        "\n",
        "for s in filtered_syms:\n",
        "    symbol2id[s] = len(symbol2id)\n",
        "\n",
        "id2symbol = {i:sorted for s, i in symbol2id.items()}"
      ],
      "execution_count": 154,
      "outputs": []
    },
    {
      "cell_type": "code",
      "metadata": {
        "id": "mUZdbw6Ymj0R"
      },
      "source": [
        "class WordSymbDataset(Dataset):\n",
        "\n",
        "    def __init__(self, dataset, word2id, symbol2id, device):\n",
        "        self.dataset = dataset['tokens2'].values\n",
        "        self.word2id = word2id\n",
        "        self.symbol2id = symbol2id\n",
        "        self.length = dataset.shape[0]\n",
        "        self.target = torch.Tensor(dataset['tone'].values)\n",
        "        self.device = device\n",
        "\n",
        "    def __len__(self):\n",
        "        return self.length\n",
        "\n",
        "    def __getitem__(self, idx): \n",
        "        tokens = self.dataset[idx]\n",
        "        ids = torch.LongTensor([self.word2id[tok] for tok in tokens if tok in self.word2id])\n",
        "        symbols = list(self.dataset[idx])\n",
        "        s_ids = torch.LongTensor([self.symbol2id[symbol] for symbol in symbols if symbol in self.symbol2id])\n",
        "        y = [self.target[idx]]\n",
        "        return ids, s_ids,  y\n",
        "\n",
        "\n",
        "    def collate_fn(self, batch):\n",
        "      ids, s_ids, y = list(zip(*batch))\n",
        "      padded_ids = pad_sequence(ids, batch_first=True).to(self.device)\n",
        "      padded_s = pad_sequence(s_ids, batch_first=True).to(self.device)\n",
        "      y = torch.Tensor(y).to(self.device)\n",
        "      return padded_ids, padded_s, y\n"
      ],
      "execution_count": 156,
      "outputs": []
    },
    {
      "cell_type": "code",
      "metadata": {
        "id": "Ash-3-eZzN7S"
      },
      "source": [
        "device = torch.device('cuda') if torch.cuda.is_available() else torch.device('cpu')\n",
        "batch_size = 128\n",
        "\n",
        "train_dataset = WordSymbDataset(train_df, word2id, symbol2id, device)\n",
        "val_dataset = WordSymbDataset(val_df, word2id, symbol2id, device)\n",
        "\n",
        "train_sampler = RandomSampler(train_dataset)\n",
        "val_sampler = RandomSampler(val_dataset)\n",
        "\n",
        "train_dataloader = DataLoader(train_dataset,\n",
        "                              collate_fn = train_dataset.collate_fn,\n",
        "                              sampler=train_sampler,\n",
        "                              batch_size=batch_size)\n",
        "val_dataloader = DataLoader(val_dataset,\n",
        "                            collate_fn = val_dataset.collate_fn,\n",
        "                            sampler=val_sampler,\n",
        "                            batch_size=batch_size)"
      ],
      "execution_count": 158,
      "outputs": []
    },
    {
      "cell_type": "markdown",
      "metadata": {
        "id": "pmDInM44yt9M"
      },
      "source": [
        "# Model 2 - комбинация эмбеддингов и символьных признаков"
      ]
    },
    {
      "cell_type": "code",
      "metadata": {
        "id": "REn64PW5mj4y"
      },
      "source": [
        "class WordSymbCNN(nn.Module):\n",
        "  #надо было отнаследоваться по-нормальному от предыдущей модели, но мне стало проще скопировать часть кода - мб так проще чиатть код\n",
        "    def __init__(self, word_vocab_size, symb_vocab_size,\n",
        "                 word_embedding_dim, symb_embedding_dim,\n",
        "                 pretrained_weights=None):\n",
        "        super().__init__()\n",
        "        self.word_embedding = nn.Embedding(word_vocab_size, word_embedding_dim)\n",
        "        if pretrained_weights is not None:\n",
        "            self.word_embedding.weight.data.copy_(torch.from_numpy(pretrained_weights))\n",
        "            self.word_embedding.weight.requires_grad = False\n",
        "        self.f1 = nn.Linear(in_features=word_embedding_dim, out_features=180)\n",
        "        self.symb_embedding = nn.Embedding(symb_vocab_size, symb_embedding_dim)\n",
        "        self.bigrams = nn.Conv1d(in_channels=symb_embedding_dim, out_channels=100, kernel_size=2, padding='same')\n",
        "        self.trigrams = nn.Conv1d(in_channels=symb_embedding_dim, out_channels=80, kernel_size=3, padding='same')\n",
        "        self.pooling = nn.MaxPool1d(kernel_size=2, stride=2)\n",
        "        self.relu = nn.ReLU()\n",
        "        self.hidden = nn.Linear(in_features=360, out_features=1)\n",
        "        self.out = nn.Sigmoid()\n",
        "    \n",
        "    def forward(self, sentence, symbols):\n",
        "        embedded_sent = self.word_embedding(sentence).mean(axis=1)\n",
        "        embedded_sent = self.f1(embedded_sent)\n",
        "        embedded_symb = self.symb_embedding(symbols)\n",
        "        embedded_symb = embedded_symb..permute(0,2,1)\n",
        "        feature_map_bigrams = self.pooling(self.relu(self.bigrams(embedded_symb)))\n",
        "        feature_map_trigrams = self.pooling(self.relu(self.trigrams(embedded_symb)))\n",
        "        pooling1 = feature_map_bigrams.max(2)[0] \n",
        "        pooling2 = feature_map_trigrams.max(2)[0]\n",
        "\n",
        "        concat = torch.cat((pooling1, pooling2, embedded_sent), 1)\n",
        "        logits = self.hidden(concat) \n",
        "        logits = self.out(logits)      \n",
        "        return logits"
      ],
      "execution_count": 159,
      "outputs": []
    },
    {
      "cell_type": "code",
      "metadata": {
        "colab": {
          "base_uri": "https://localhost:8080/"
        },
        "id": "v4Vyg1YW5I1e",
        "outputId": "73bbcf5b-5d9e-4929-ede5-59db018a92b0"
      },
      "source": [
        "model = WordSymbCNN(len(word2id), len(symbol2id), 100, 10)\n",
        "optimizer = optim.Adam(model.parameters(), lr=1e-3)\n",
        "criterion = nn.BCELoss()\n",
        "\n",
        "\n",
        "train_loss, val_loss, train_f1, val_f1, precs, val_precs, recs, val_recs  = train(train_dataloader=train_dataloader,\n",
        "                                               val_dataloader=val_dataloader,\n",
        "                                               model=model,\n",
        "                                               optimizer=optimizer,\n",
        "                                               criterion=criterion,\n",
        "                                               epochs=10,\n",
        "                                               metric=f1)"
      ],
      "execution_count": 161,
      "outputs": [
        {
          "output_type": "stream",
          "name": "stderr",
          "text": [
            " 10%|█         | 1/10 [00:40<06:06, 40.71s/it]"
          ]
        },
        {
          "output_type": "stream",
          "name": "stdout",
          "text": [
            "Val loss: 0.5608671613306075, Val metric: 0.7134450078010559\n",
            "----------\n",
            "Epoch 1:\n",
            "Train loss: 0.6125612596147939, Train metric: 0.6537016034126282\n"
          ]
        },
        {
          "output_type": "stream",
          "name": "stderr",
          "text": [
            "\r 20%|██        | 2/10 [01:21<05:24, 40.54s/it]"
          ]
        },
        {
          "output_type": "stream",
          "name": "stdout",
          "text": [
            "Val loss: 0.5396865134437879, Val metric: 0.7312281131744385\n",
            "----------\n",
            "Epoch 2:\n",
            "Train loss: 0.5083854094707876, Train metric: 0.7543188333511353\n"
          ]
        },
        {
          "output_type": "stream",
          "name": "stderr",
          "text": [
            "\r 30%|███       | 3/10 [02:01<04:43, 40.48s/it]"
          ]
        },
        {
          "output_type": "stream",
          "name": "stdout",
          "text": [
            "Val loss: 0.5521815038277759, Val metric: 0.7158852815628052\n",
            "----------\n",
            "Epoch 3:\n",
            "Train loss: 0.4394436514467225, Train metric: 0.7990909814834595\n"
          ]
        },
        {
          "output_type": "stream",
          "name": "stderr",
          "text": [
            "\r 40%|████      | 4/10 [02:41<04:02, 40.42s/it]"
          ]
        },
        {
          "output_type": "stream",
          "name": "stdout",
          "text": [
            "Val loss: 0.5671658534388822, Val metric: 0.7418423891067505\n",
            "----------\n",
            "Epoch 4:\n",
            "Train loss: 0.38300012138329054, Train metric: 0.8303481340408325\n"
          ]
        },
        {
          "output_type": "stream",
          "name": "stderr",
          "text": [
            "\r 50%|█████     | 5/10 [03:21<03:21, 40.28s/it]"
          ]
        },
        {
          "output_type": "stream",
          "name": "stdout",
          "text": [
            "Val loss: 0.636437973326391, Val metric: 0.692658543586731\n",
            "----------\n",
            "Epoch 5:\n",
            "Train loss: 0.3301209643595201, Train metric: 0.8581399917602539\n"
          ]
        },
        {
          "output_type": "stream",
          "name": "stderr",
          "text": [
            "\r 60%|██████    | 6/10 [04:02<02:41, 40.29s/it]"
          ]
        },
        {
          "output_type": "stream",
          "name": "stdout",
          "text": [
            "Val loss: 0.7227145489808675, Val metric: 0.6699085831642151\n",
            "----------\n",
            "Epoch 6:\n",
            "Train loss: 0.28770689825366313, Train metric: 0.878576397895813\n"
          ]
        },
        {
          "output_type": "stream",
          "name": "stderr",
          "text": [
            "\r 70%|███████   | 7/10 [04:42<02:00, 40.22s/it]"
          ]
        },
        {
          "output_type": "stream",
          "name": "stdout",
          "text": [
            "Val loss: 0.7259820611761497, Val metric: 0.7194823622703552\n",
            "----------\n",
            "Epoch 7:\n",
            "Train loss: 0.25056919921609694, Train metric: 0.8962203860282898\n"
          ]
        },
        {
          "output_type": "stream",
          "name": "stderr",
          "text": [
            "\r 80%|████████  | 8/10 [05:22<01:20, 40.35s/it]"
          ]
        },
        {
          "output_type": "stream",
          "name": "stdout",
          "text": [
            "Val loss: 0.7866294587383399, Val metric: 0.7222548723220825\n",
            "----------\n",
            "Epoch 8:\n",
            "Train loss: 0.22127190395853574, Train metric: 0.9090368747711182\n"
          ]
        },
        {
          "output_type": "stream",
          "name": "stderr",
          "text": [
            "\r 90%|█████████ | 9/10 [06:02<00:40, 40.14s/it]"
          ]
        },
        {
          "output_type": "stream",
          "name": "stdout",
          "text": [
            "Val loss: 0.8751041216121332, Val metric: 0.6795601844787598\n",
            "----------\n",
            "Epoch 9:\n",
            "Train loss: 0.19675632570134965, Train metric: 0.9200968146324158\n"
          ]
        },
        {
          "output_type": "stream",
          "name": "stderr",
          "text": [
            "100%|██████████| 10/10 [06:42<00:00, 40.24s/it]"
          ]
        },
        {
          "output_type": "stream",
          "name": "stdout",
          "text": [
            "Val loss: 0.9089444605549714, Val metric: 0.685820460319519\n",
            "----------\n",
            "Epoch 10:\n",
            "Train loss: 0.17496563086104125, Train metric: 0.9297754168510437\n"
          ]
        },
        {
          "output_type": "stream",
          "name": "stderr",
          "text": [
            "\n"
          ]
        }
      ]
    },
    {
      "cell_type": "code",
      "metadata": {
        "colab": {
          "base_uri": "https://localhost:8080/"
        },
        "id": "5s6eydEe5ejR",
        "outputId": "9be72d55-e27e-4d79-ef14-b8b66319f145"
      },
      "source": [
        "print(train_loss[-1], train_f1[-1], precs[-1], recs[-1])\n",
        "print(val_loss[-1], val_f1[-1], val_precs[-1], val_recs[-1])"
      ],
      "execution_count": 162,
      "outputs": [
        {
          "output_type": "stream",
          "name": "stdout",
          "text": [
            "0.17496563086104125 0.9297754 0.9337303 0.9278944\n",
            "0.9089444605549714 0.68582046 0.7381414 0.6434901\n"
          ]
        }
      ]
    },
    {
      "cell_type": "code",
      "metadata": {
        "colab": {
          "base_uri": "https://localhost:8080/",
          "height": 78
        },
        "id": "7WKBsuPe5zmZ",
        "outputId": "85ac45b5-e40f-4b5d-af2f-6f0f6f0c8bff"
      },
      "source": [
        "loss_ans = []\n",
        "f1_ans = []\n",
        "precision_ans = []\n",
        "recall_ans = []\n",
        "model_type = []\n",
        "loss_ans.append(val_loss[-1])\n",
        "f1_ans.append(val_f1[-1])\n",
        "precision_ans.append(val_precs[-1])\n",
        "recall_ans.append(val_recs[-1])\n",
        "model_type.append('WordSymbCNN-1')\n",
        "df_ans = pd.DataFrame({'Model type': model_type,\n",
        "                       'Precision': precision_ans,\n",
        "                       'Recall': recall_ans,\n",
        "                       'F1': f1_ans,\n",
        "                       'Loss': loss_ans})\n",
        "df_ans"
      ],
      "execution_count": 169,
      "outputs": [
        {
          "output_type": "execute_result",
          "data": {
            "text/html": [
              "<div>\n",
              "<style scoped>\n",
              "    .dataframe tbody tr th:only-of-type {\n",
              "        vertical-align: middle;\n",
              "    }\n",
              "\n",
              "    .dataframe tbody tr th {\n",
              "        vertical-align: top;\n",
              "    }\n",
              "\n",
              "    .dataframe thead th {\n",
              "        text-align: right;\n",
              "    }\n",
              "</style>\n",
              "<table border=\"1\" class=\"dataframe\">\n",
              "  <thead>\n",
              "    <tr style=\"text-align: right;\">\n",
              "      <th></th>\n",
              "      <th>Model type</th>\n",
              "      <th>Precision</th>\n",
              "      <th>Recall</th>\n",
              "      <th>F1</th>\n",
              "      <th>Loss</th>\n",
              "    </tr>\n",
              "  </thead>\n",
              "  <tbody>\n",
              "    <tr>\n",
              "      <th>0</th>\n",
              "      <td>WordSymbCNN-1</td>\n",
              "      <td>0.738141</td>\n",
              "      <td>0.64349</td>\n",
              "      <td>0.68582</td>\n",
              "      <td>0.908944</td>\n",
              "    </tr>\n",
              "  </tbody>\n",
              "</table>\n",
              "</div>"
            ],
            "text/plain": [
              "      Model type  Precision   Recall       F1      Loss\n",
              "0  WordSymbCNN-1   0.738141  0.64349  0.68582  0.908944"
            ]
          },
          "metadata": {},
          "execution_count": 169
        }
      ]
    },
    {
      "cell_type": "code",
      "metadata": {
        "colab": {
          "base_uri": "https://localhost:8080/",
          "height": 294
        },
        "id": "aSmV3dIi5bBj",
        "outputId": "0a9faa49-cf6e-4b66-9ce7-566127f4570b"
      },
      "source": [
        "plt.plot(train_loss)\n",
        "plt.plot(val_loss)\n",
        "plt.title('BCE loss value')\n",
        "plt.ylabel('BCE loss')\n",
        "plt.xlabel('epoch')\n",
        "plt.legend(['train', 'val'], loc='upper right')\n",
        "plt.show()"
      ],
      "execution_count": 164,
      "outputs": [
        {
          "output_type": "display_data",
          "data": {
            "image/png": "[encoded data removed]",
            "text/plain": [
              "<Figure size 432x288 with 1 Axes>"
            ]
          },
          "metadata": {
            "needs_background": "light"
          }
        }
      ]
    },
    {
      "cell_type": "markdown",
      "metadata": {
        "id": "-z7eBJCn7Erx"
      },
      "source": [
        "Явно переобучается моделька, ничего, добавим опять дропауты, поправим (еще посмотрим на эмбеддингах, как дела)"
      ]
    },
    {
      "cell_type": "code",
      "metadata": {
        "colab": {
          "base_uri": "https://localhost:8080/",
          "height": 294
        },
        "id": "NfgLBPQq5bEE",
        "outputId": "5b0ae7d6-5170-49da-ba9d-e82cd3315f76"
      },
      "source": [
        "plt.plot(train_f1)\n",
        "plt.plot(val_f1)\n",
        "plt.title('F1 score')\n",
        "plt.ylabel('F1 score')\n",
        "plt.xlabel('epoch')\n",
        "plt.legend(['train', 'val'], loc='upper right')\n",
        "plt.show()"
      ],
      "execution_count": 165,
      "outputs": [
        {
          "output_type": "display_data",
          "data": {
            "image/png": "[encoded data removed]",
            "text/plain": [
              "<Figure size 432x288 with 1 Axes>"
            ]
          },
          "metadata": {
            "needs_background": "light"
          }
        }
      ]
    },
    {
      "cell_type": "code",
      "metadata": {
        "colab": {
          "base_uri": "https://localhost:8080/"
        },
        "id": "itxrnUGu5P7W",
        "outputId": "2b45e811-414f-47b1-9bde-f55bb32879d1"
      },
      "source": [
        "model = WordSymbCNN(len(word2id), len(symbol2id), 100, 10, ft_weights)\n",
        "optimizer = optim.Adam(model.parameters(), lr=1e-3)\n",
        "criterion = nn.BCELoss()\n",
        "\n",
        "\n",
        "train_loss, val_loss, train_f1, val_f1, precs, val_precs, recs, val_recs = train(train_dataloader=train_dataloader,\n",
        "                                               val_dataloader=val_dataloader,\n",
        "                                               model=model,\n",
        "                                               optimizer=optimizer,\n",
        "                                               criterion=criterion,\n",
        "                                               epochs=10,\n",
        "                                               metric=f1)"
      ],
      "execution_count": 170,
      "outputs": [
        {
          "output_type": "stream",
          "name": "stderr",
          "text": [
            " 10%|█         | 1/10 [00:26<03:58, 26.55s/it]"
          ]
        },
        {
          "output_type": "stream",
          "name": "stdout",
          "text": [
            "Val loss: 0.6201077411706383, Val metric: 0.6880373358726501\n",
            "----------\n",
            "Epoch 1:\n",
            "Train loss: 0.6398305908629769, Train metric: 0.6418803334236145\n"
          ]
        },
        {
          "output_type": "stream",
          "name": "stderr",
          "text": [
            "\r 20%|██        | 2/10 [00:53<03:36, 27.04s/it]"
          ]
        },
        {
          "output_type": "stream",
          "name": "stdout",
          "text": [
            "Val loss: 0.5813600383363329, Val metric: 0.7070981860160828\n",
            "----------\n",
            "Epoch 2:\n",
            "Train loss: 0.5862764103296108, Train metric: 0.6904535293579102\n"
          ]
        },
        {
          "output_type": "stream",
          "name": "stderr",
          "text": [
            "\r 30%|███       | 3/10 [01:20<03:08, 26.96s/it]"
          ]
        },
        {
          "output_type": "stream",
          "name": "stdout",
          "text": [
            "Val loss: 0.5639775492049552, Val metric: 0.7194370627403259\n",
            "----------\n",
            "Epoch 3:\n",
            "Train loss: 0.5403225050832993, Train metric: 0.728084146976471\n"
          ]
        },
        {
          "output_type": "stream",
          "name": "stderr",
          "text": [
            "\r 40%|████      | 4/10 [01:47<02:41, 26.84s/it]"
          ]
        },
        {
          "output_type": "stream",
          "name": "stdout",
          "text": [
            "Val loss: 0.5557218187631251, Val metric: 0.7228227257728577\n",
            "----------\n",
            "Epoch 4:\n",
            "Train loss: 0.505250076803946, Train metric: 0.7545382380485535\n"
          ]
        },
        {
          "output_type": "stream",
          "name": "stderr",
          "text": [
            "\r 50%|█████     | 5/10 [02:14<02:13, 26.78s/it]"
          ]
        },
        {
          "output_type": "stream",
          "name": "stdout",
          "text": [
            "Val loss: 0.5556117067331666, Val metric: 0.7292435169219971\n",
            "----------\n",
            "Epoch 5:\n",
            "Train loss: 0.4746407424820993, Train metric: 0.7748889327049255\n"
          ]
        },
        {
          "output_type": "stream",
          "name": "stderr",
          "text": [
            "\r 60%|██████    | 6/10 [02:40<01:47, 26.75s/it]"
          ]
        },
        {
          "output_type": "stream",
          "name": "stdout",
          "text": [
            "Val loss: 0.5583759303297009, Val metric: 0.7233894467353821\n",
            "----------\n",
            "Epoch 6:\n",
            "Train loss: 0.4462967282623277, Train metric: 0.7931115627288818\n"
          ]
        },
        {
          "output_type": "stream",
          "name": "stderr",
          "text": [
            "\r 70%|███████   | 7/10 [03:07<01:20, 26.72s/it]"
          ]
        },
        {
          "output_type": "stream",
          "name": "stdout",
          "text": [
            "Val loss: 0.5714888545843932, Val metric: 0.7052024006843567\n",
            "----------\n",
            "Epoch 7:\n",
            "Train loss: 0.41966481836218583, Train metric: 0.8085206747055054\n"
          ]
        },
        {
          "output_type": "stream",
          "name": "stderr",
          "text": [
            "\r 80%|████████  | 8/10 [03:34<00:53, 26.66s/it]"
          ]
        },
        {
          "output_type": "stream",
          "name": "stdout",
          "text": [
            "Val loss: 0.5765783257849582, Val metric: 0.7381089925765991\n",
            "----------\n",
            "Epoch 8:\n",
            "Train loss: 0.39487632271042444, Train metric: 0.8240994215011597\n"
          ]
        },
        {
          "output_type": "stream",
          "name": "stderr",
          "text": [
            "\r 90%|█████████ | 9/10 [04:00<00:26, 26.62s/it]"
          ]
        },
        {
          "output_type": "stream",
          "name": "stdout",
          "text": [
            "Val loss: 0.5863878572577829, Val metric: 0.7298073768615723\n",
            "----------\n",
            "Epoch 9:\n",
            "Train loss: 0.3701058869299136, Train metric: 0.8379091620445251\n"
          ]
        },
        {
          "output_type": "stream",
          "name": "stderr",
          "text": [
            "100%|██████████| 10/10 [04:27<00:00, 26.73s/it]"
          ]
        },
        {
          "output_type": "stream",
          "name": "stdout",
          "text": [
            "Val loss: 0.6085547840742914, Val metric: 0.7074964642524719\n",
            "----------\n",
            "Epoch 10:\n",
            "Train loss: 0.3477216012943956, Train metric: 0.8499179482460022\n"
          ]
        },
        {
          "output_type": "stream",
          "name": "stderr",
          "text": [
            "\n"
          ]
        }
      ]
    },
    {
      "cell_type": "code",
      "metadata": {
        "colab": {
          "base_uri": "https://localhost:8080/",
          "height": 294
        },
        "id": "bY13_0O08DDO",
        "outputId": "5e1344fe-49a2-4764-834f-b972f84f1ec9"
      },
      "source": [
        "plt.plot(train_loss)\n",
        "plt.plot(val_loss)\n",
        "plt.title('BCE loss value')\n",
        "plt.ylabel('BCE loss')\n",
        "plt.xlabel('epoch')\n",
        "plt.legend(['train', 'val'], loc='upper right')\n",
        "plt.show()"
      ],
      "execution_count": 171,
      "outputs": [
        {
          "output_type": "display_data",
          "data": {
            "image/png": "[encoded data removed]",
            "text/plain": [
              "<Figure size 432x288 with 1 Axes>"
            ]
          },
          "metadata": {
            "needs_background": "light"
          }
        }
      ]
    },
    {
      "cell_type": "code",
      "metadata": {
        "colab": {
          "base_uri": "https://localhost:8080/",
          "height": 294
        },
        "id": "pIif2ojR8ZAF",
        "outputId": "a8e44673-c890-49ec-dc48-6d12353af269"
      },
      "source": [
        "plt.plot(train_f1)\n",
        "plt.plot(val_f1)\n",
        "plt.title('F1 score')\n",
        "plt.ylabel('F1 score')\n",
        "plt.xlabel('epoch')\n",
        "plt.legend(['train', 'val'], loc='upper right')\n",
        "plt.show()"
      ],
      "execution_count": 172,
      "outputs": [
        {
          "output_type": "display_data",
          "data": {
            "image/png": "[encoded data removed]",
            "text/plain": [
              "<Figure size 432x288 with 1 Axes>"
            ]
          },
          "metadata": {
            "needs_background": "light"
          }
        }
      ]
    },
    {
      "cell_type": "code",
      "metadata": {
        "colab": {
          "base_uri": "https://localhost:8080/",
          "height": 110
        },
        "id": "1S6CVxh-8DLs",
        "outputId": "4431dc65-4ecf-4a8f-fd34-6a5affe06039"
      },
      "source": [
        "loss_ans.append(val_loss[-1])\n",
        "f1_ans.append(val_f1[-1])\n",
        "precision_ans.append(val_precs[-1])\n",
        "recall_ans.append(val_recs[-1])\n",
        "model_type.append('WordSymbCNN-1+FastText')\n",
        "df_ans = pd.DataFrame({'Model type': model_type,\n",
        "                       'Precision': precision_ans,\n",
        "                       'Recall': recall_ans,\n",
        "                       'F1': f1_ans,\n",
        "                       'Loss': loss_ans})\n",
        "df_ans"
      ],
      "execution_count": 173,
      "outputs": [
        {
          "output_type": "execute_result",
          "data": {
            "text/html": [
              "<div>\n",
              "<style scoped>\n",
              "    .dataframe tbody tr th:only-of-type {\n",
              "        vertical-align: middle;\n",
              "    }\n",
              "\n",
              "    .dataframe tbody tr th {\n",
              "        vertical-align: top;\n",
              "    }\n",
              "\n",
              "    .dataframe thead th {\n",
              "        text-align: right;\n",
              "    }\n",
              "</style>\n",
              "<table border=\"1\" class=\"dataframe\">\n",
              "  <thead>\n",
              "    <tr style=\"text-align: right;\">\n",
              "      <th></th>\n",
              "      <th>Model type</th>\n",
              "      <th>Precision</th>\n",
              "      <th>Recall</th>\n",
              "      <th>F1</th>\n",
              "      <th>Loss</th>\n",
              "    </tr>\n",
              "  </thead>\n",
              "  <tbody>\n",
              "    <tr>\n",
              "      <th>0</th>\n",
              "      <td>WordSymbCNN-1</td>\n",
              "      <td>0.738141</td>\n",
              "      <td>0.643490</td>\n",
              "      <td>0.685820</td>\n",
              "      <td>0.908944</td>\n",
              "    </tr>\n",
              "    <tr>\n",
              "      <th>1</th>\n",
              "      <td>WordSymbCNN-1+FastText</td>\n",
              "      <td>0.748705</td>\n",
              "      <td>0.674129</td>\n",
              "      <td>0.707496</td>\n",
              "      <td>0.608555</td>\n",
              "    </tr>\n",
              "  </tbody>\n",
              "</table>\n",
              "</div>"
            ],
            "text/plain": [
              "               Model type  Precision    Recall        F1      Loss\n",
              "0           WordSymbCNN-1   0.738141  0.643490  0.685820  0.908944\n",
              "1  WordSymbCNN-1+FastText   0.748705  0.674129  0.707496  0.608555"
            ]
          },
          "metadata": {},
          "execution_count": 173
        }
      ]
    },
    {
      "cell_type": "markdown",
      "metadata": {
        "id": "tcGTvxF99apO"
      },
      "source": [
        "Класс, стало лучше!!! Сейчас шедулер еще поставим, вдруг что там"
      ]
    },
    {
      "cell_type": "code",
      "metadata": {
        "colab": {
          "base_uri": "https://localhost:8080/"
        },
        "id": "xtbOVVNT9n_B",
        "outputId": "43294f12-e72a-40c1-9de4-5db8e450df87"
      },
      "source": [
        "model = WordSymbCNN(len(word2id), len(symbol2id), 100, 10, ft_weights)\n",
        "optimizer = optim.Adam(model.parameters(), lr=1e-1)\n",
        "criterion = nn.BCELoss()\n",
        "scheduler = optim.lr_scheduler.ReduceLROnPlateau(optimizer, 'min')\n",
        "\n",
        "train_loss, val_loss, train_f1, val_f1, precs, val_precs, recs, val_recs = train(train_dataloader=train_dataloader,\n",
        "                                               val_dataloader=val_dataloader,\n",
        "                                               model=model,\n",
        "                                               optimizer=optimizer,\n",
        "                                               criterion=criterion,\n",
        "                                               scheduler=scheduler,\n",
        "                                               epochs=10,\n",
        "                                               metric=f1)"
      ],
      "execution_count": 180,
      "outputs": [
        {
          "output_type": "stream",
          "name": "stderr",
          "text": [
            " 10%|█         | 1/10 [00:26<04:00, 26.68s/it]"
          ]
        },
        {
          "output_type": "stream",
          "name": "stdout",
          "text": [
            "Val loss: 3.025414787031509, Val metric: 0.6709065437316895\n",
            "----------\n",
            "Epoch 1:\n",
            "Train loss: 2.8420552439707563, Train metric: 0.6127773523330688\n"
          ]
        },
        {
          "output_type": "stream",
          "name": "stderr",
          "text": [
            "\r 20%|██        | 2/10 [00:53<03:33, 26.73s/it]"
          ]
        },
        {
          "output_type": "stream",
          "name": "stdout",
          "text": [
            "Val loss: 4.048208456318657, Val metric: 0.5273041725158691\n",
            "----------\n",
            "Epoch 2:\n",
            "Train loss: 3.412333843448108, Train metric: 0.6670392751693726\n"
          ]
        },
        {
          "output_type": "stream",
          "name": "stderr",
          "text": [
            "\r 30%|███       | 3/10 [01:20<03:07, 26.80s/it]"
          ]
        },
        {
          "output_type": "stream",
          "name": "stdout",
          "text": [
            "Val loss: 4.669807311751552, Val metric: 0.6462788581848145\n",
            "----------\n",
            "Epoch 3:\n",
            "Train loss: 3.85491786451268, Train metric: 0.693120539188385\n"
          ]
        },
        {
          "output_type": "stream",
          "name": "stderr",
          "text": [
            "\r 40%|████      | 4/10 [01:47<02:41, 26.89s/it]"
          ]
        },
        {
          "output_type": "stream",
          "name": "stdout",
          "text": [
            "Val loss: 6.726573196315282, Val metric: 0.5998062491416931\n",
            "----------\n",
            "Epoch 4:\n",
            "Train loss: 5.2939891073936804, Train metric: 0.7031210660934448\n"
          ]
        },
        {
          "output_type": "stream",
          "name": "stderr",
          "text": [
            "\r 50%|█████     | 5/10 [02:14<02:14, 26.99s/it]"
          ]
        },
        {
          "output_type": "stream",
          "name": "stdout",
          "text": [
            "Val loss: 9.023942545593322, Val metric: 0.7204782366752625\n",
            "----------\n",
            "Epoch 5:\n",
            "Train loss: 5.407264187506267, Train metric: 0.7179933190345764\n"
          ]
        },
        {
          "output_type": "stream",
          "name": "stderr",
          "text": [
            "\r 60%|██████    | 6/10 [02:41<01:47, 26.97s/it]"
          ]
        },
        {
          "output_type": "stream",
          "name": "stdout",
          "text": [
            "Val loss: 32.19323608467171, Val metric: 0.6971456408500671\n",
            "----------\n",
            "Epoch 6:\n",
            "Train loss: 9.029502030960598, Train metric: 0.7303672432899475\n"
          ]
        },
        {
          "output_type": "stream",
          "name": "stderr",
          "text": [
            "\r 70%|███████   | 7/10 [03:08<01:20, 26.89s/it]"
          ]
        },
        {
          "output_type": "stream",
          "name": "stdout",
          "text": [
            "Val loss: 34.651826940141284, Val metric: 0.6570864915847778\n",
            "----------\n",
            "Epoch 7:\n",
            "Train loss: 30.997877295931477, Train metric: 0.7389075756072998\n"
          ]
        },
        {
          "output_type": "stream",
          "name": "stderr",
          "text": [
            "\r 80%|████████  | 8/10 [03:35<00:53, 26.89s/it]"
          ]
        },
        {
          "output_type": "stream",
          "name": "stdout",
          "text": [
            "Val loss: 33.40049324379311, Val metric: 0.6816728711128235\n",
            "----------\n",
            "Epoch 8:\n",
            "Train loss: 29.811479612938445, Train metric: 0.7288697957992554\n"
          ]
        },
        {
          "output_type": "stream",
          "name": "stderr",
          "text": [
            "\r 90%|█████████ | 9/10 [04:01<00:26, 26.89s/it]"
          ]
        },
        {
          "output_type": "stream",
          "name": "stdout",
          "text": [
            "Val loss: 36.211029551050686, Val metric: 0.6881373524665833\n",
            "----------\n",
            "Epoch 9:\n",
            "Train loss: 29.90628501347133, Train metric: 0.7234714031219482\n"
          ]
        },
        {
          "output_type": "stream",
          "name": "stderr",
          "text": [
            "100%|██████████| 10/10 [04:28<00:00, 26.86s/it]"
          ]
        },
        {
          "output_type": "stream",
          "name": "stdout",
          "text": [
            "Val loss: 34.934856255849205, Val metric: 0.6714352369308472\n",
            "----------\n",
            "Epoch 10:\n",
            "Train loss: 31.861353581650814, Train metric: 0.7148261666297913\n"
          ]
        },
        {
          "output_type": "stream",
          "name": "stderr",
          "text": [
            "\n"
          ]
        }
      ]
    },
    {
      "cell_type": "code",
      "metadata": {
        "colab": {
          "base_uri": "https://localhost:8080/",
          "height": 171
        },
        "id": "pbtHuISg9yoq",
        "outputId": "ef5e6168-3f8f-45f8-80b0-5172780a3251"
      },
      "source": [
        "loss_ans.append(val_loss[-1])\n",
        "f1_ans.append(val_f1[-1])\n",
        "precision_ans.append(val_precs[-1])\n",
        "recall_ans.append(val_recs[-1])\n",
        "model_type.append('WordSymbCNN-1+FastText')\n",
        "df_ans = pd.DataFrame({'Model type': model_type,\n",
        "                       'Precision': precision_ans,\n",
        "                       'Recall': recall_ans,\n",
        "                       'F1': f1_ans,\n",
        "                       'Loss': loss_ans})\n",
        "df_ans"
      ],
      "execution_count": 181,
      "outputs": [
        {
          "output_type": "execute_result",
          "data": {
            "text/html": [
              "<div>\n",
              "<style scoped>\n",
              "    .dataframe tbody tr th:only-of-type {\n",
              "        vertical-align: middle;\n",
              "    }\n",
              "\n",
              "    .dataframe tbody tr th {\n",
              "        vertical-align: top;\n",
              "    }\n",
              "\n",
              "    .dataframe thead th {\n",
              "        text-align: right;\n",
              "    }\n",
              "</style>\n",
              "<table border=\"1\" class=\"dataframe\">\n",
              "  <thead>\n",
              "    <tr style=\"text-align: right;\">\n",
              "      <th></th>\n",
              "      <th>Model type</th>\n",
              "      <th>Precision</th>\n",
              "      <th>Recall</th>\n",
              "      <th>F1</th>\n",
              "      <th>Loss</th>\n",
              "    </tr>\n",
              "  </thead>\n",
              "  <tbody>\n",
              "    <tr>\n",
              "      <th>0</th>\n",
              "      <td>WordSymbCNN-1</td>\n",
              "      <td>0.738141</td>\n",
              "      <td>0.643490</td>\n",
              "      <td>0.685820</td>\n",
              "      <td>0.908944</td>\n",
              "    </tr>\n",
              "    <tr>\n",
              "      <th>1</th>\n",
              "      <td>WordSymbCNN-1+FastText</td>\n",
              "      <td>0.748705</td>\n",
              "      <td>0.674129</td>\n",
              "      <td>0.707496</td>\n",
              "      <td>0.608555</td>\n",
              "    </tr>\n",
              "    <tr>\n",
              "      <th>2</th>\n",
              "      <td>WordSymbCNN-1+FastText</td>\n",
              "      <td>0.505923</td>\n",
              "      <td>1.000000</td>\n",
              "      <td>0.670618</td>\n",
              "      <td>49.407728</td>\n",
              "    </tr>\n",
              "    <tr>\n",
              "      <th>3</th>\n",
              "      <td>WordSymbCNN-1+FastText</td>\n",
              "      <td>0.639466</td>\n",
              "      <td>0.711202</td>\n",
              "      <td>0.671435</td>\n",
              "      <td>34.934856</td>\n",
              "    </tr>\n",
              "  </tbody>\n",
              "</table>\n",
              "</div>"
            ],
            "text/plain": [
              "               Model type  Precision    Recall        F1       Loss\n",
              "0           WordSymbCNN-1   0.738141  0.643490  0.685820   0.908944\n",
              "1  WordSymbCNN-1+FastText   0.748705  0.674129  0.707496   0.608555\n",
              "2  WordSymbCNN-1+FastText   0.505923  1.000000  0.670618  49.407728\n",
              "3  WordSymbCNN-1+FastText   0.639466  0.711202  0.671435  34.934856"
            ]
          },
          "metadata": {},
          "execution_count": 181
        }
      ]
    },
    {
      "cell_type": "markdown",
      "metadata": {
        "id": "SLau_a75BBLE"
      },
      "source": [
        "тут у меня не надо обращать на строчку 2 - это САМЫЙ НЕУДАЧНЫЙ ЭКСПЕРИМЕНТ И я на горестях убрала кодовые ячейки - это очень смешно (просто гавесила дропаут \" не туда\" и все попротилось)))"
      ]
    },
    {
      "cell_type": "code",
      "metadata": {
        "colab": {
          "base_uri": "https://localhost:8080/",
          "height": 294
        },
        "id": "z04i7aws-F58",
        "outputId": "a64f64f0-1e2d-4f77-bd3f-2851c83fa479"
      },
      "source": [
        "plt.plot(train_loss)\n",
        "plt.plot(val_loss)\n",
        "plt.title('BCE loss value')\n",
        "plt.ylabel('BCE loss')\n",
        "plt.xlabel('epoch')\n",
        "plt.legend(['train', 'val'], loc='upper right')\n",
        "plt.show()"
      ],
      "execution_count": 182,
      "outputs": [
        {
          "output_type": "display_data",
          "data": {
            "image/png": "[encoded data removed]",
            "text/plain": [
              "<Figure size 432x288 with 1 Axes>"
            ]
          },
          "metadata": {
            "needs_background": "light"
          }
        }
      ]
    },
    {
      "cell_type": "code",
      "metadata": {
        "colab": {
          "base_uri": "https://localhost:8080/",
          "height": 294
        },
        "id": "mlMLSbTK-H-X",
        "outputId": "2a2cbe8e-5d41-4ceb-a975-5961ce7284b8"
      },
      "source": [
        "plt.plot(train_f1)\n",
        "plt.plot(val_f1)\n",
        "plt.title('F1 score')\n",
        "plt.ylabel('F1 score')\n",
        "plt.xlabel('epoch')\n",
        "plt.legend(['train', 'val'], loc='upper right')\n",
        "plt.show()"
      ],
      "execution_count": 183,
      "outputs": [
        {
          "output_type": "display_data",
          "data": {
            "image/png": "[encoded data removed]",
            "text/plain": [
              "<Figure size 432x288 with 1 Axes>"
            ]
          },
          "metadata": {
            "needs_background": "light"
          }
        }
      ]
    },
    {
      "cell_type": "markdown",
      "metadata": {
        "id": "rzCq2KQY-Ufh"
      },
      "source": [
        "Итог работы этой модели: конечно, случился очень сильный буст, это здорово,  так как символьная информация тоже повышает обобщающую способность модели\n",
        "\n",
        "Дропаут замечательно решал проблему перееобучения\n",
        "\n",
        "Дополнительная информация с эмбеддингов также помогла повысить performance  модели\n",
        "\n",
        "Я провела много экспериментов, комментировала их, визуализировала процесс обучения, смотрела много глзками на качество модели. Такой подробный анализ также помог найти лучший подход."
      ]
    },
    {
      "cell_type": "markdown",
      "metadata": {
        "id": "0cO218Ui-VUr"
      },
      "source": [
        "# Анализ ошибок"
      ]
    },
    {
      "cell_type": "markdown",
      "metadata": {
        "id": "izYurMck_s2s"
      },
      "source": [
        "Прросто выведем предложения и посмотрим на них.\n",
        "\n",
        "В реальной жизни (по крайней мере, в моей) проходит несколько итерация разметок, так как человеческий фактор в разметке присутсвтует всегда, а еще иногда в целом есть \"шумные\"/\"мусорные\" примеры, которые стоит учитывать, а иногда надо чуть поменять разметку, поэтому попробую сама проинтерпретировать результаты)"
      ]
    },
    {
      "cell_type": "markdown",
      "metadata": {
        "id": "zB9algqFAVQm"
      },
      "source": [
        "эх моя свадьба не скоро будет -  возможно, слово \"свадьба\", которое очень часто встречается именно в позитивном контексте, имело существенный вес при определении класса\n",
        "\n",
        "\n",
        "завтра будет целый день переживаний за тебя как ты там - для меня это максимально \"нейтральный контекст\", как и большиснтво предложений ниже\n",
        "\n",
        "а тут, когда сам человек не знает, к какому классу отнести предложение, то модели уж тем более сложно\n",
        "\n",
        "вывод такой: всегда хороша переразметка \"трудных\" случаев и дальшая новая работа с моделями"
      ]
    },
    {
      "cell_type": "code",
      "metadata": {
        "colab": {
          "base_uri": "https://localhost:8080/"
        },
        "id": "3HKs7UJr-SAr",
        "outputId": "7cb14b81-9c17-4293-f4a4-67f713d04df8"
      },
      "source": [
        "for (*x, y) in val_dataloader:\n",
        "    break\n",
        "\n",
        "y = y.long().detach().cpu().numpy().T[0] \n",
        "with torch.no_grad():\n",
        "    preds = model(*x).round().long().detach().cpu().numpy().T[0]\n",
        "words = x[0].detach().cpu().numpy()\n",
        "sents = []\n",
        "for sent in words:\n",
        "    sents.append(' '.join([id2word[i] for i in sent if i!=0]))\n",
        "sents = np.array(sents)\n",
        "ids = np.where(preds != y)[0]\n",
        "for id in ids[:20]:\n",
        "    print('label:', y[id])\n",
        "    print('pred:', preds[id])\n",
        "    print(sents[id])\n",
        "    print()"
      ],
      "execution_count": 185,
      "outputs": [
        {
          "output_type": "stream",
          "name": "stdout",
          "text": [
            "label: 1\n",
            "pred: 0\n",
            "соня даже не понимаю чему ты это\n",
            "\n",
            "label: 1\n",
            "pred: 0\n",
            "вот так надо худеть\n",
            "\n",
            "label: 0\n",
            "pred: 1\n",
            "верните меня прошлое там было такое прекрасное будущее\n",
            "\n",
            "label: 0\n",
            "pred: 1\n",
            "_ __ ох котя\n",
            "\n",
            "label: 0\n",
            "pred: 1\n",
            "заяш коза разбудила блять ну зачем ты так делаешь\n",
            "\n",
            "label: 0\n",
            "pred: 1\n",
            "мы мы потом она\n",
            "\n",
            "label: 0\n",
            "pred: 1\n",
            "божественный мужчина предложить поотбивать ним ноги субботу это так романтично ахаха блин ну жена\n",
            "\n",
            "label: 0\n",
            "pred: 1\n",
            "так приятно когда идёшь по улице тебе вслед смотрят парни ты улыбаешься зная том что принадлежишь только одному\n",
            "\n",
            "label: 0\n",
            "pred: 1\n",
            "какая ты красивая сегодня влюбилась ты что поправилась на кг меня круги под глазами так это ты влюбилась\n",
            "\n",
            "label: 0\n",
            "pred: 1\n",
            "сам себя уничиожил настроение на ноле\n",
            "\n",
            "label: 0\n",
            "pred: 1\n",
            "тебе згадував недавно ахуєть тебе кожен день згадую\n",
            "\n",
            "label: 0\n",
            "pred: 1\n",
            "уже\n",
            "\n",
            "label: 0\n",
            "pred: 1\n",
            "эти слова краеугольным камнем лежат меня на сердце\n",
            "\n",
            "label: 0\n",
            "pred: 1\n",
            "через несколько часов мы окажемся дома\n",
            "\n",
            "label: 0\n",
            "pred: 1\n",
            "надеюсь что этот год будет лучше чем уходящий без таких великих потерь людей как гибель пола уокера\n",
            "\n",
            "label: 0\n",
            "pred: 1\n",
            "думал мы встретим нг вместе\n",
            "\n",
            "label: 0\n",
            "pred: 1\n",
            "_ такой форме на общем заборе хорошие лучшие побуждения\n",
            "\n",
            "label: 0\n",
            "pred: 1\n",
            "__ __ пытался\n",
            "\n",
            "label: 0\n",
            "pred: 1\n",
            "_ кому твит ванди то скучно\n",
            "\n",
            "label: 0\n",
            "pred: 1\n",
            "конечно охуенный но магазине почему то хикковал прятался под лавкой\n",
            "\n"
          ]
        }
      ]
    }
  ]
}